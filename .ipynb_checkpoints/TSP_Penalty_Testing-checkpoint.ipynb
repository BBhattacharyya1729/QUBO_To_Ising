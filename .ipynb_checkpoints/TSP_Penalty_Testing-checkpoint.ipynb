{
 "cells": [
  {
   "cell_type": "code",
   "execution_count": 119,
   "id": "44359088-cb43-48d8-8903-e07b1371398c",
   "metadata": {},
   "outputs": [],
   "source": [
    "from QAOAUtils import *\n",
    "from oputils import *\n",
    "import pickle as pkl\n",
    "import numpy as np\n",
    "\n",
    "def TSP_QUBO(n,max_val, eps):\n",
    "    points = np.random.random((n,2)) * max_val * 2 - max_val\n",
    "    W_mat = np.array([[np.linalg.norm(points[i]-points[j]) for i in range(n)] for j in range(n)])\n",
    "\n",
    "    A = num_to_bin(np.sum(W_mat),(n-1)**2)\n",
    "    #B = num_to_bin((1+eps) * np.max(W_mat),(n-1)**2)\n",
    "    B = num_to_bin(2 * np.sqrt(2) * max_val,(n-1)**2)\n",
    "\n",
    "    reward = num_to_bin(0,(n-1)**2)\n",
    "    for i in range(0,n-1):\n",
    "        for j in range(0,n-1):\n",
    "            for t in range(0,n-2):\n",
    "                reward += num_to_bin(W_mat[i+1][j+1],(n-1)**2) * indexed_bin_op((n-1)*t+i,(n-1)**2) *  indexed_bin_op((n-1)*(t+1)+j,(n-1)**2)\n",
    "        reward += num_to_bin(W_mat[0][i+1],(n-1)**2) * indexed_bin_op(i,(n-1)**2) \n",
    "        reward += num_to_bin(W_mat[0][i+1],(n-1)**2) *  indexed_bin_op((n-1)*(n-2)+i,(n-1)**2)\n",
    "    \n",
    "    penalty1=num_to_bin(0,(n-1)**2)\n",
    "    for t in range(n-1):\n",
    "        temp_op = num_to_bin(1,(n-1)**2)\n",
    "        for i in range(n-1):\n",
    "            temp_op -= indexed_bin_op((n-1)*t+i,(n-1)**2)\n",
    "        penalty1+=temp_op**2\n",
    "    \n",
    "    penalty2=num_to_bin(0,(n-1)**2)\n",
    "    for i in range(n-1):\n",
    "        temp_op = num_to_bin(1,(n-1)**2)\n",
    "        for t in range(n-1):\n",
    "            temp_op -= indexed_bin_op((n-1)*t+i,(n-1)**2)\n",
    "        penalty2+=temp_op**2\n",
    "    \n",
    "    cost1 = reward+A*(penalty1+penalty2)\n",
    "    cost2 = reward+B*(penalty1+penalty2)\n",
    "\n",
    "    return points,W_mat, bin_to_qubo(cost1), bin_to_qubo(cost2)"
   ]
  },
  {
   "cell_type": "code",
   "execution_count": 107,
   "id": "3cf7dc88-a8f1-4dad-b22c-431590a91451",
   "metadata": {},
   "outputs": [
    {
     "name": "stdout",
     "output_type": "stream",
     "text": [
      "[[-1 -1  1 -1  1 -1  1 -1 -1 -1]\n",
      " [-1  1  1  1 -1  1  1  1 -1  1]\n",
      " [ 1 -1 -1 -1  1 -1 -1 -1  1 -1]\n",
      " [ 1  1 -1  1 -1  1 -1  1  1  1]]\n",
      "\n",
      "[[-1  1  1  1 -1  1  1  1 -1  1]\n",
      " [ 1 -1 -1 -1  1 -1 -1 -1  1 -1]]\n",
      "\n",
      "[[-1 -1  1 -1  1 -1  1 -1 -1 -1]\n",
      " [-1  1  1  1 -1  1  1  1 -1  1]\n",
      " [ 1 -1 -1 -1  1 -1 -1 -1  1 -1]\n",
      " [ 1  1 -1  1 -1  1 -1  1  1  1]]\n",
      "\n",
      "[[-1  1  1  1 -1  1  1  1 -1  1]\n",
      " [ 1 -1 -1 -1  1 -1 -1 -1  1 -1]]\n",
      "\n"
     ]
    }
   ],
   "source": [
    "l=[]\n",
    "for p in np.linspace(1,1,2):\n",
    "    V = TSP_QUBO(4,10,p)\n",
    "    m=brute_force_maxcut(dual_graph(-V[2][-1]))[0]\n",
    "    t=brute_force_maxcut(dual_graph(-V[3][-1]))[0]\n",
    "    print(m)\n",
    "    print('')\n",
    "    print(t)\n",
    "    print('')\n",
    "    #l.append(np.sum(np.abs(m-t)))"
   ]
  },
  {
   "cell_type": "code",
   "execution_count": 148,
   "id": "851e108a-964d-4c7d-9d70-5c61e549ac28",
   "metadata": {},
   "outputs": [
    {
     "data": {
      "text/plain": [
       "([array([-1,  1, -1, -1, -1,  1,  1, -1, -1, -1]),\n",
       "  array([ 1, -1,  1,  1,  1, -1, -1,  1,  1,  1])],\n",
       " [array([-1,  1, -1, -1, -1,  1,  1, -1, -1, -1]),\n",
       "  array([ 1, -1,  1,  1,  1, -1, -1,  1,  1,  1])])"
      ]
     },
     "execution_count": 148,
     "metadata": {},
     "output_type": "execute_result"
    }
   ],
   "source": [
    "V = TSP_QUBO(4,10,p)\n",
    "\n",
    "Q1 = (-V[2][-1])\n",
    "Q2 = (-V[3][-1])\n",
    "\n",
    "m=[x for x in brute_force_maxcut(dual_graph(Q1))[0]]\n",
    "t=[x for x in brute_force_maxcut(dual_graph(Q2))[0]]\n",
    "\n",
    "m,t"
   ]
  },
  {
   "cell_type": "code",
   "execution_count": 149,
   "id": "72272923-c827-49e7-ad97-a27fb2c001fe",
   "metadata": {},
   "outputs": [],
   "source": [
    "a1=dual_graph(Q1)\n",
    "a2=dual_graph(Q2)\n",
    "precum1 = pre_compute(a1)\n",
    "precum2 = pre_compute(a2)"
   ]
  },
  {
   "cell_type": "code",
   "execution_count": 151,
   "id": "6882f761-e07f-4049-8d94-fc92288f6050",
   "metadata": {},
   "outputs": [
    {
     "data": {
      "text/plain": [
       "[280.0, 743.0]"
      ]
     },
     "execution_count": 151,
     "metadata": {},
     "output_type": "execute_result"
    }
   ],
   "source": [
    "[np.dot(np.reshape((x+1)/2,(10,)),[512,256,128,64,32,16,8,4,2,1]) for x in m]"
   ]
  },
  {
   "cell_type": "code",
   "execution_count": 152,
   "id": "ae89220e-4f07-489e-ab8c-7c2798108389",
   "metadata": {},
   "outputs": [
    {
     "data": {
      "text/plain": [
       "(1917.3019824678393, 1917.3019824678393)"
      ]
     },
     "execution_count": 152,
     "metadata": {},
     "output_type": "execute_result"
    }
   ],
   "source": [
    "precum1[280],precum1[743]"
   ]
  },
  {
   "cell_type": "code",
   "execution_count": 154,
   "id": "7e2d0bb5-9c5c-4509-83f2-a172d9172ee1",
   "metadata": {},
   "outputs": [
    {
     "data": {
      "text/plain": [
       "2"
      ]
     },
     "execution_count": 154,
     "metadata": {},
     "output_type": "execute_result"
    }
   ],
   "source": [
    "np.sum(precum1==precum1[280])"
   ]
  },
  {
   "cell_type": "code",
   "execution_count": 155,
   "id": "93363632-81ec-4192-ab13-46390f741549",
   "metadata": {},
   "outputs": [
    {
     "data": {
      "text/plain": [
       "[array([[1, 0, 0],\n",
       "        [0, 0, 1],\n",
       "        [0, 1, 0]], dtype=int32),\n",
       " array([[1, 0, 0],\n",
       "        [0, 0, 1],\n",
       "        [0, 1, 0]], dtype=int32)]"
      ]
     },
     "execution_count": 155,
     "metadata": {},
     "output_type": "execute_result"
    }
   ],
   "source": [
    "[np.flip(np.reshape(map_reduce(x),(3,3)),axis=0) for x in m]"
   ]
  },
  {
   "cell_type": "code",
   "execution_count": 159,
   "id": "e12b3190-efb2-4b73-a41a-31b3d326695a",
   "metadata": {},
   "outputs": [
    {
     "data": {
      "text/plain": [
       "array([1, 1, 1], dtype=int32)"
      ]
     },
     "execution_count": 159,
     "metadata": {},
     "output_type": "execute_result"
    }
   ],
   "source": [
    "map_reduce(np.array([-1,-1,-1,1]))"
   ]
  },
  {
   "cell_type": "code",
   "execution_count": 166,
   "id": "7ef5121e-31a9-4e04-a29c-f29b330a4736",
   "metadata": {},
   "outputs": [
    {
     "data": {
      "text/plain": [
       "[[-7669.20792987136, 15849.20634210021],\n",
       " [-7669.20792987136, 15849.20634210021]]"
      ]
     },
     "execution_count": 166,
     "metadata": {},
     "output_type": "execute_result"
    }
   ],
   "source": [
    "[[get_cost(a1,np.array((-(2*l-1)).tolist()+[1])),get_cost(a1,np.array((2*l+1).tolist()+[-1]))] for l in [np.reshape(np.flip(np.reshape(map_reduce(x),(3,3)),axis=0),(9,)) for x in m]]"
   ]
  },
  {
   "cell_type": "code",
   "execution_count": 161,
   "id": "48e4f42c-3edb-4bf5-afd4-320d096fe46b",
   "metadata": {},
   "outputs": [
    {
     "name": "stdout",
     "output_type": "stream",
     "text": [
      "[array([-1,  1, -1, -1, -1,  1,  1, -1, -1, -1]), array([ 1, -1,  1,  1,  1, -1, -1,  1,  1,  1])]\n"
     ]
    }
   ],
   "source": [
    "print(m)"
   ]
  },
  {
   "cell_type": "code",
   "execution_count": 122,
   "id": "d53fd083-4e16-47d7-8ea3-04626929cbfc",
   "metadata": {},
   "outputs": [
    {
     "data": {
      "text/plain": [
       "([388.0674715097954, 388.0674715097954],\n",
       " [148.78721004971277, 148.78721004971277])"
      ]
     },
     "execution_count": 122,
     "metadata": {},
     "output_type": "execute_result"
    }
   ],
   "source": [
    "[get_cost(Q1,np.reshape(x,(9,))) for x in m],[get_cost(Q2,np.reshape(x,(9,))) for x in t]"
   ]
  },
  {
   "cell_type": "code",
   "execution_count": 128,
   "id": "8a457165-b78e-498f-a58f-d66447b1f3dd",
   "metadata": {},
   "outputs": [
    {
     "data": {
      "text/plain": [
       "([array([[0, 0, 1],\n",
       "         [1, 0, 0],\n",
       "         [0, 1, 0]], dtype=int32),\n",
       "  array([[0, 0, 1],\n",
       "         [1, 0, 0],\n",
       "         [0, 1, 0]], dtype=int32)],\n",
       " [array([[0, 1, 0],\n",
       "         [1, 0, 0],\n",
       "         [0, 0, 1]], dtype=int32),\n",
       "  array([[0, 1, 0],\n",
       "         [1, 0, 0],\n",
       "         [0, 0, 1]], dtype=int32)])"
      ]
     },
     "execution_count": 128,
     "metadata": {},
     "output_type": "execute_result"
    }
   ],
   "source": [
    "[np.flip(x,axis=0) for x in m],m"
   ]
  },
  {
   "cell_type": "code",
   "execution_count": 130,
   "id": "807078ea-d09c-470b-bfa0-ebf402223c6e",
   "metadata": {},
   "outputs": [
    {
     "data": {
      "text/plain": [
       "([388.0674715097954, 388.0674715097954],\n",
       " [148.78721004971277, 148.78721004971277])"
      ]
     },
     "execution_count": 130,
     "metadata": {},
     "output_type": "execute_result"
    }
   ],
   "source": [
    "[get_cost(Q1,np.reshape(x,(9,))) for x in [np.flip(x,axis=0) for x in m]],[get_cost(Q2,np.reshape(x,(9,))) for x in [np.flip(x,axis=0) for x in t]]"
   ]
  },
  {
   "cell_type": "code",
   "execution_count": 139,
   "id": "806c5f03-fff7-4381-ae9a-34a5afefa0d5",
   "metadata": {},
   "outputs": [
    {
     "data": {
      "text/plain": [
       "[array([0, 0, 1, 1, 0, 0, 0, 1, 0], dtype=int32),\n",
       " array([0, 0, 1, 1, 0, 0, 0, 1, 0], dtype=int32),\n",
       " array([0, 1, 0, 1, 0, 0, 0, 0, 1], dtype=int32),\n",
       " array([0, 1, 0, 1, 0, 0, 0, 0, 1], dtype=int32)]"
      ]
     },
     "execution_count": 139,
     "metadata": {},
     "output_type": "execute_result"
    }
   ],
   "source": [
    "[np.reshape(x,(9,)) for x in [np.flip(x,axis=0) for x in m]]+[np.reshape(x,(9,)) for x in m]"
   ]
  },
  {
   "cell_type": "code",
   "execution_count": 140,
   "id": "47b31ac9-7189-42ed-9693-64906d4ab25d",
   "metadata": {},
   "outputs": [
    {
     "data": {
      "text/plain": [
       "[array([[0, 0, 1],\n",
       "        [1, 0, 0],\n",
       "        [0, 1, 0]], dtype=int32),\n",
       " array([[0, 0, 1],\n",
       "        [1, 0, 0],\n",
       "        [0, 1, 0]], dtype=int32),\n",
       " array([[0, 1, 0],\n",
       "        [1, 0, 0],\n",
       "        [0, 0, 1]], dtype=int32),\n",
       " array([[0, 1, 0],\n",
       "        [1, 0, 0],\n",
       "        [0, 0, 1]], dtype=int32)]"
      ]
     },
     "execution_count": 140,
     "metadata": {},
     "output_type": "execute_result"
    }
   ],
   "source": [
    "[x for x in [np.flip(x,axis=0) for x in m]]+[x for x in m]"
   ]
  },
  {
   "cell_type": "code",
   "execution_count": 141,
   "id": "06afa469-97e2-4b03-b529-08f5f87d6af7",
   "metadata": {},
   "outputs": [
    {
     "name": "stdout",
     "output_type": "stream",
     "text": [
      "[array([[0, 1, 0],\n",
      "       [1, 0, 0],\n",
      "       [0, 0, 1]], dtype=int32), array([[0, 1, 0],\n",
      "       [1, 0, 0],\n",
      "       [0, 0, 1]], dtype=int32)]\n"
     ]
    }
   ],
   "source": [
    "print(m)"
   ]
  },
  {
   "cell_type": "code",
   "execution_count": 91,
   "id": "63900dac-dc1c-445d-9195-b7466a6ca4ff",
   "metadata": {},
   "outputs": [
    {
     "name": "stdout",
     "output_type": "stream",
     "text": [
      "[array([[0, 1, 0],\n",
      "       [1, 0, 0],\n",
      "       [0, 0, 1]], dtype=int32), array([[0, 1, 0],\n",
      "       [1, 0, 0],\n",
      "       [0, 0, 1]], dtype=int32)]\n",
      "________________________________________________________________________\n"
     ]
    },
    {
     "data": {
      "text/plain": [
       "[array([[0, 1, 0],\n",
       "        [1, 0, 0],\n",
       "        [0, 0, 1]], dtype=int32),\n",
       " array([[0, 1, 0],\n",
       "        [1, 0, 0],\n",
       "        [0, 0, 1]], dtype=int32)]"
      ]
     },
     "execution_count": 91,
     "metadata": {},
     "output_type": "execute_result"
    }
   ],
   "source": [
    "V = TSP_QUBO(4,10,p)\n",
    "m=brute_force_maxcut(dual_graph(-V[2][-1]))[0]\n",
    "t=brute_force_maxcut(dual_graph(-V[3][-1]))[0]\n",
    "[map_reduce(x) for x in m]\n",
    "print([np.reshape(map_reduce(x),(3,3)) for x in m])\n",
    "print('________________________________________________________________________')\n",
    "[map_reduce(x) for x in t]\n",
    "[np.reshape(map_reduce(x),(3,3)) for x in t]"
   ]
  },
  {
   "cell_type": "code",
   "execution_count": 73,
   "id": "bdae9a45-4bd1-4451-80a1-a37eab15a387",
   "metadata": {},
   "outputs": [],
   "source": [
    "def brute_force_TSP(W):\n",
    "    n=len(W)\n",
    "    min_val = np.inf\n",
    "    min_p = None\n",
    "    for p in list(itertools.permutations(range(1,n))):\n",
    "        c = W[0][p[0]]+W[0][p[-1]]\n",
    "        for i in range(n-2):\n",
    "            c+=W[p[i]][p[i+1]]\n",
    "        if(c<min_val):\n",
    "            min_val=c\n",
    "            min_p=p\n",
    "    return np.concatenate(([0],min_p))"
   ]
  },
  {
   "cell_type": "code",
   "execution_count": 78,
   "id": "8a78bc7e-53fe-4c9c-b22f-ab7e8a3740fc",
   "metadata": {},
   "outputs": [
    {
     "data": {
      "text/plain": [
       "array([0, 3, 1, 2])"
      ]
     },
     "execution_count": 78,
     "metadata": {},
     "output_type": "execute_result"
    }
   ],
   "source": [
    "brute_force_TSP(V[1])"
   ]
  },
  {
   "cell_type": "code",
   "execution_count": 81,
   "id": "f186598d-09a0-4e04-95a3-1c3e961ee8ed",
   "metadata": {},
   "outputs": [
    {
     "data": {
      "text/plain": [
       "array([[ 0.10514488,  2.90216291],\n",
       "       [-4.87168372,  6.45739465],\n",
       "       [-9.30340524, -3.17349818],\n",
       "       [ 0.17663319, -7.21666522]])"
      ]
     },
     "execution_count": 81,
     "metadata": {},
     "output_type": "execute_result"
    }
   ],
   "source": [
    "V[0]"
   ]
  },
  {
   "cell_type": "code",
   "execution_count": 54,
   "id": "e3b23d8f-7fa9-4436-aa5d-114e61dd659e",
   "metadata": {},
   "outputs": [],
   "source": [
    "def brute_force_maxcut(A,precomp=None):\n",
    "    if(precomp is None):\n",
    "        precomp  = pre_compute(A)\n",
    "    b_list = np.argwhere(precomp == np.amax(precomp))\n",
    "    b_list = np.reshape(b_list,(len(b_list),))\n",
    "    b_list = [bin(b)[2:] for b in  b_list]\n",
    "    return np.array([2*np.array([int(i) for i in '0'*(len(A)-len(b))+b])-1 for b in b_list]),np.max(precomp)"
   ]
  },
  {
   "cell_type": "code",
   "execution_count": 57,
   "id": "3a658f9f-3cee-4295-a815-0eae4c49aff0",
   "metadata": {},
   "outputs": [
    {
     "ename": "TypeError",
     "evalue": "brute_force_maxcut() missing 1 required positional argument: 'A'",
     "output_type": "error",
     "traceback": [
      "\u001b[1;31m---------------------------------------------------------------------------\u001b[0m",
      "\u001b[1;31mTypeError\u001b[0m                                 Traceback (most recent call last)",
      "Cell \u001b[1;32mIn[57], line 1\u001b[0m\n\u001b[1;32m----> 1\u001b[0m brute_force_maxcut()\n",
      "\u001b[1;31mTypeError\u001b[0m: brute_force_maxcut() missing 1 required positional argument: 'A'"
     ]
    }
   ],
   "source": [
    "brute_force_maxcut()"
   ]
  },
  {
   "cell_type": "code",
   "execution_count": 70,
   "id": "f5d3595c-e79f-404b-ace0-c83fae8ab689",
   "metadata": {},
   "outputs": [],
   "source": [
    "def TSP_QUBO(n,max_val):\n",
    "    points = np.random.random((n,2)) * max_val * 2 - max_val\n",
    "    W_mat = np.array([[np.linalg.norm(points[i]-points[j]) for i in range(n)] for j in range(n)])\n",
    "\n",
    "    eps = 0.1\n",
    "\n",
    "    A = num_to_bin((1+eps) * np.max(W_mat),(n-1)**2)\n",
    "    reward = num_to_bin(0,(n-1)**2)\n",
    "    for i in range(0,n-1):\n",
    "        for j in range(0,n-1):\n",
    "            for t in range(0,n-2):\n",
    "                reward += num_to_bin(W_mat[i+1][j+1],(n-1)**2) * indexed_bin_op((n-1)*t+i,(n-1)**2) *  indexed_bin_op((n-1)*(t+1)+j,(n-1)**2)\n",
    "        reward += num_to_bin(W_mat[0][i+1],(n-1)**2) * indexed_bin_op(i,(n-1)**2) \n",
    "        reward += num_to_bin(W_mat[0][i+1],(n-1)**2) *  indexed_bin_op((n-1)*(n-2)+i,(n-1)**2)\n",
    "    \n",
    "    penalty1=num_to_bin(0,(n-1)**2)\n",
    "    for t in range(n-1):\n",
    "        temp_op = num_to_bin(1,(n-1)**2)\n",
    "        for i in range(n-1):\n",
    "            temp_op -= indexed_bin_op((n-1)*t+i,(n-1)**2)\n",
    "        penalty1+=temp_op**2\n",
    "    \n",
    "    penalty2=num_to_bin(0,(n-1)**2)\n",
    "    for i in range(n-1):\n",
    "        temp_op = num_to_bin(1,(n-1)**2)\n",
    "        for t in range(n-1):\n",
    "            temp_op -= indexed_bin_op((n-1)*t+i,(n-1)**2)\n",
    "        penalty2+=temp_op**2\n",
    "    \n",
    "    cost = reward+A*(penalty1+penalty2)\n",
    "    return points,W_mat, bin_to_qubo(cost)"
   ]
  },
  {
   "cell_type": "code",
   "execution_count": 71,
   "id": "b29b8d08-f5cb-436e-b123-0fd0fbd25d18",
   "metadata": {},
   "outputs": [
    {
     "data": {
      "text/plain": [
       "(array([[-1, -1, -1, -1, -1, -1, -1, -1, -1,  1],\n",
       "        [ 1,  1,  1,  1,  1,  1,  1,  1,  1, -1]]),\n",
       " 454.2054804491609)"
      ]
     },
     "execution_count": 71,
     "metadata": {},
     "output_type": "execute_result"
    }
   ],
   "source": [
    "brute_force_maxcut(dual_graph(TSP_QUBO(4,10)[-1][-1]))"
   ]
  },
  {
   "cell_type": "code",
   "execution_count": null,
   "id": "21775aef-7f75-41a5-8a2e-e2538ede7141",
   "metadata": {},
   "outputs": [],
   "source": []
  },
  {
   "cell_type": "code",
   "execution_count": null,
   "id": "cf86ce1b-2fd0-4fc7-8879-13cb714cd2a2",
   "metadata": {},
   "outputs": [],
   "source": []
  }
 ],
 "metadata": {
  "kernelspec": {
   "display_name": "Python 3 (ipykernel)",
   "language": "python",
   "name": "python3"
  },
  "language_info": {
   "codemirror_mode": {
    "name": "ipython",
    "version": 3
   },
   "file_extension": ".py",
   "mimetype": "text/x-python",
   "name": "python",
   "nbconvert_exporter": "python",
   "pygments_lexer": "ipython3",
   "version": "3.12.2"
  }
 },
 "nbformat": 4,
 "nbformat_minor": 5
}
