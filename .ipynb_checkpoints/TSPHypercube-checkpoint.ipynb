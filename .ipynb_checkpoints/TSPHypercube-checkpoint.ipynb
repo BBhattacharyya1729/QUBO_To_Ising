{
 "cells": [
  {
   "cell_type": "code",
   "execution_count": 1,
   "id": "131d1ced-5203-42f0-8317-9e799dab3e8e",
   "metadata": {},
   "outputs": [
    {
     "name": "stdout",
     "output_type": "stream",
     "text": [
      "(CVXPY) Oct 16 08:09:05 PM: Encountered unexpected exception importing solver OSQP:\n",
      "ImportError('DLL load failed while importing qdldl: The specified module could not be found.')\n"
     ]
    }
   ],
   "source": [
    "from QAOAUtils import *\n",
    "from PSC import *\n",
    "import pickle as pkl\n",
    "from qiskit_algorithms.optimizers import COBYLA"
   ]
  },
  {
   "cell_type": "code",
   "execution_count": 2,
   "id": "51b99f02-e847-453a-8947-f8ebe9675905",
   "metadata": {},
   "outputs": [],
   "source": [
    "DATA = pkl.load( open (\"TSPMISDepth0Test.p\", \"rb\") )"
   ]
  },
  {
   "cell_type": "code",
   "execution_count": 3,
   "id": "fc213f15-1619-44d2-aec5-008cbd3fe53a",
   "metadata": {},
   "outputs": [],
   "source": [
    "idx_list = np.linspace(0, 999, 1000, dtype='int')\n",
    "\n",
    "TSP_A_list = []\n",
    "TSP_init_list = []\n",
    "VDISTANCE = []\n",
    "DISTANCE = []\n",
    "\n",
    "for i in idx_list:\n",
    "    TSP_A_list.append(DATA[3][i])\n",
    "    TSP_init_list.append(DATA[2][i])"
   ]
  },
  {
   "cell_type": "code",
   "execution_count": 4,
   "id": "6e0c44a2-926c-4500-9809-eb7c346a9eb1",
   "metadata": {},
   "outputs": [],
   "source": [
    "A = TSP_A_list[0]\n",
    "Q = -A[:-1,:-1]\n",
    "v = relax_solve(Q,reps=50)\n",
    "round_v = np.round(v)\n",
    "dist = np.linalg.norm(v-round_v)"
   ]
  },
  {
   "cell_type": "code",
   "execution_count": 5,
   "id": "e740c25e-510a-44e7-81b5-a6903770a0d0",
   "metadata": {},
   "outputs": [
    {
     "data": {
      "application/vnd.jupyter.widget-view+json": {
       "model_id": "9afdbc965ab94aef86beb2ff26acfda0",
       "version_major": 2,
       "version_minor": 0
      },
      "text/plain": [
       "  0%|          | 0/1000 [00:00<?, ?it/s]"
      ]
     },
     "metadata": {},
     "output_type": "display_data"
    }
   ],
   "source": [
    "for A in tqdm(TSP_A_list):\n",
    "    Q = -A[:-1,:-1]\n",
    "    v = relax_solve(Q,reps=50)\n",
    "    v_round = round_v\n",
    "    VDISTANCE.append(np.linalg.norm(v-v_round))"
   ]
  },
  {
   "cell_type": "code",
   "execution_count": null,
   "id": "2aab3a99-1ff5-4c99-ad82-63f7814e5eb2",
   "metadata": {},
   "outputs": [],
   "source": [
    "pkl.dump( VDISTANCE, open( \"VdistancesTSP.p\", \"wb\" ) )"
   ]
  },
  {
   "cell_type": "code",
   "execution_count": 6,
   "id": "0c2a7e1b-245b-49f3-91e8-3bca6b2b8086",
   "metadata": {},
   "outputs": [
    {
     "data": {
      "application/vnd.jupyter.widget-view+json": {
       "model_id": "769b939cc33b45499c6552b2279cb6cc",
       "version_major": 2,
       "version_minor": 0
      },
      "text/plain": [
       "  0%|          | 0/1000 [00:00<?, ?it/s]"
      ]
     },
     "metadata": {},
     "output_type": "display_data"
    }
   ],
   "source": [
    "for A in tqdm(TSP_A_list):\n",
    "    t=[map_reduce(v) for v in brute_force_maxcut(A)[0]]\n",
    "    DISTANCE.append(np.min([np.linalg.norm(v-i) for i in t]))"
   ]
  },
  {
   "cell_type": "code",
   "execution_count": null,
   "id": "519aa590-a3c0-4871-97d5-2a57f6e9674b",
   "metadata": {},
   "outputs": [],
   "source": [
    "pkl.dump( DISTANCE, open( \"VdistancesTSP.p\", \"wb\" ) )"
   ]
  },
  {
   "cell_type": "code",
   "execution_count": null,
   "id": "f87a61aa-e45b-49c8-b6c7-54fb1350386f",
   "metadata": {},
   "outputs": [],
   "source": []
  }
 ],
 "metadata": {
  "kernelspec": {
   "display_name": "Python 3 (ipykernel)",
   "language": "python",
   "name": "python3"
  },
  "language_info": {
   "codemirror_mode": {
    "name": "ipython",
    "version": 3
   },
   "file_extension": ".py",
   "mimetype": "text/x-python",
   "name": "python",
   "nbconvert_exporter": "python",
   "pygments_lexer": "ipython3",
   "version": "3.12.2"
  }
 },
 "nbformat": 4,
 "nbformat_minor": 5
}
