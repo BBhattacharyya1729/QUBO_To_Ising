{
 "cells": [
  {
   "cell_type": "code",
   "execution_count": 1,
   "id": "d6b04f8c-198b-4928-8167-3a8f0ae65d78",
   "metadata": {},
   "outputs": [
    {
     "name": "stdout",
     "output_type": "stream",
     "text": [
      "(CVXPY) Aug 15 05:34:15 PM: Encountered unexpected exception importing solver OSQP:\n",
      "ImportError('DLL load failed while importing qdldl: The specified module could not be found.')\n"
     ]
    }
   ],
   "source": [
    "from QAOAUtils import *\n",
    "from PSC import *\n",
    "import pickle as pkl\n",
    "from qiskit_algorithms.optimizers import COBYLA"
   ]
  },
  {
   "cell_type": "code",
   "execution_count": 2,
   "id": "fd01b091-6470-48bd-94dc-7f999db0b45c",
   "metadata": {},
   "outputs": [],
   "source": [
    "DATA = pkl.load( open (\"TSPMISDepth0Test.p\", \"rb\") )"
   ]
  },
  {
   "cell_type": "code",
   "execution_count": 3,
   "id": "a448486f-452d-49ff-be6b-d1bf95059ecc",
   "metadata": {},
   "outputs": [],
   "source": [
    "idx_list = np.linspace(50,950,10,dtype='int')\n",
    "\n",
    "MIS_A_list = [DATA[7][i] for i in idx_list]\n",
    "MIS_init_list = [DATA[6][i] for i in idx_list]\n",
    "\n",
    "DATA = []\n",
    "PSC_DATA = []\n",
    "ws_list  = ['GW2','GW3', None]\n",
    "###Configure \n",
    "opt=COBYLA(maxiter=50)"
   ]
  },
  {
   "cell_type": "code",
   "execution_count": 4,
   "id": "a8597187-54f7-4b18-98e4-5d9bb783f3ef",
   "metadata": {},
   "outputs": [
    {
     "data": {
      "application/vnd.jupyter.widget-view+json": {
       "model_id": "3d929861a1bf4ee78764a13303122152",
       "version_major": 2,
       "version_minor": 0
      },
      "text/plain": [
       "  0%|          | 0/10 [00:00<?, ?it/s]"
      ]
     },
     "metadata": {},
     "output_type": "display_data"
    }
   ],
   "source": [
    "for _ in tqdm(range(10)):\n",
    "    A = MIS_A_list[_]\n",
    "    initial_data = MIS_init_list[_]\n",
    "    do=warmstart_comp(A=A,opt=opt,p_max=5,rotation_options=[0,-1,None],reps=10,optimizer_kwargs={'name':None,'verbose':False},ws_list=ws_list,initial_data=initial_data,keep_hist=True)\n",
    "    DATA.append(do[-1])"
   ]
  },
  {
   "cell_type": "code",
   "execution_count": 5,
   "id": "a4141890-60b0-492a-9a0f-13d3ccc04b9f",
   "metadata": {},
   "outputs": [],
   "source": [
    "pkl.dump( DATA, open( \"MISGNPFullTest.p\", \"wb\" ) )"
   ]
  },
  {
   "cell_type": "code",
   "execution_count": null,
   "id": "720608ba-1f6e-49f1-9b5e-211d57392f0d",
   "metadata": {},
   "outputs": [],
   "source": [
    "for _ in tqdm(range(10)):\n",
    "    A = MIS_A_list[_]\n",
    "    do = PSC_Run(A,opt,p_max,optimizer_kwargs={'name':None,'verbose':True},keep_hist=False,eps=0.1,reps=10)\n",
    "    PSC_DATA.append(do)"
   ]
  },
  {
   "cell_type": "code",
   "execution_count": null,
   "id": "5aaf6655-6ae2-4046-8d0d-b4bc2194a879",
   "metadata": {},
   "outputs": [],
   "source": [
    "pkl.dump( PSC_DATA, open( \"PSCMISGNPFullTest.p\", \"wb\" ) )"
   ]
  }
 ],
 "metadata": {
  "kernelspec": {
   "display_name": "Python 3 (ipykernel)",
   "language": "python",
   "name": "python3"
  },
  "language_info": {
   "codemirror_mode": {
    "name": "ipython",
    "version": 3
   },
   "file_extension": ".py",
   "mimetype": "text/x-python",
   "name": "python",
   "nbconvert_exporter": "python",
   "pygments_lexer": "ipython3",
   "version": "3.12.2"
  }
 },
 "nbformat": 4,
 "nbformat_minor": 5
}
