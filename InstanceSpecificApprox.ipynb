{
 "cells": [
  {
   "cell_type": "code",
   "execution_count": 1,
   "id": "3a4698c2-aa23-4eca-ba06-82feb05fe2b0",
   "metadata": {},
   "outputs": [],
   "source": [
    "import pickle as pkl\n",
    "from QAOAUtils import *\n",
    "from tqdm import tqdm\n",
    "from tqdm.contrib import itertools\n",
    "from tqdm.contrib.itertools import product\n",
    "from tqdm.notebook import tqdm\n",
    "import matplotlib.pyplot as plt\n",
    "from matplotlib.markers import MarkerStyle\n",
    "from matplotlib.gridspec import GridSpec\n",
    "import pandas as pd"
   ]
  },
  {
   "cell_type": "code",
   "execution_count": 2,
   "id": "dd9b6d9e-fd63-4867-afe8-aadad8fc75c1",
   "metadata": {},
   "outputs": [
    {
     "ename": "FileNotFoundError",
     "evalue": "[Errno 2] No such file or directory: 'RandomQUBODepth0Test.p'",
     "output_type": "error",
     "traceback": [
      "\u001b[1;31m---------------------------------------------------------------------------\u001b[0m",
      "\u001b[1;31mFileNotFoundError\u001b[0m                         Traceback (most recent call last)",
      "Cell \u001b[1;32mIn[2], line 1\u001b[0m\n\u001b[1;32m----> 1\u001b[0m Random_QUBO_DATA\u001b[38;5;241m=\u001b[39m pkl\u001b[38;5;241m.\u001b[39mload( \u001b[38;5;28mopen\u001b[39m (\u001b[38;5;124m\"\u001b[39m\u001b[38;5;124mRandomQUBODepth0Test.p\u001b[39m\u001b[38;5;124m\"\u001b[39m, \u001b[38;5;124m\"\u001b[39m\u001b[38;5;124mrb\u001b[39m\u001b[38;5;124m\"\u001b[39m) )\n\u001b[0;32m      2\u001b[0m TSP_MIS_DATA\u001b[38;5;241m=\u001b[39m pkl\u001b[38;5;241m.\u001b[39mload( \u001b[38;5;28mopen\u001b[39m (\u001b[38;5;124m\"\u001b[39m\u001b[38;5;124mTSPMISDepth0Test.p\u001b[39m\u001b[38;5;124m\"\u001b[39m, \u001b[38;5;124m\"\u001b[39m\u001b[38;5;124mrb\u001b[39m\u001b[38;5;124m\"\u001b[39m) )\n\u001b[0;32m      3\u001b[0m PO_DATA\u001b[38;5;241m=\u001b[39m pkl\u001b[38;5;241m.\u001b[39mload( \u001b[38;5;28mopen\u001b[39m (\u001b[38;5;124m\"\u001b[39m\u001b[38;5;124mPortfolioOptDepth0Test.p\u001b[39m\u001b[38;5;124m\"\u001b[39m, \u001b[38;5;124m\"\u001b[39m\u001b[38;5;124mrb\u001b[39m\u001b[38;5;124m\"\u001b[39m) )\n",
      "File \u001b[1;32mC:\\ProgramData\\anaconda3\\envs\\QAOA\\Lib\\site-packages\\IPython\\core\\interactiveshell.py:324\u001b[0m, in \u001b[0;36m_modified_open\u001b[1;34m(file, *args, **kwargs)\u001b[0m\n\u001b[0;32m    317\u001b[0m \u001b[38;5;28;01mif\u001b[39;00m file \u001b[38;5;129;01min\u001b[39;00m {\u001b[38;5;241m0\u001b[39m, \u001b[38;5;241m1\u001b[39m, \u001b[38;5;241m2\u001b[39m}:\n\u001b[0;32m    318\u001b[0m     \u001b[38;5;28;01mraise\u001b[39;00m \u001b[38;5;167;01mValueError\u001b[39;00m(\n\u001b[0;32m    319\u001b[0m         \u001b[38;5;124mf\u001b[39m\u001b[38;5;124m\"\u001b[39m\u001b[38;5;124mIPython won\u001b[39m\u001b[38;5;124m'\u001b[39m\u001b[38;5;124mt let you open fd=\u001b[39m\u001b[38;5;132;01m{\u001b[39;00mfile\u001b[38;5;132;01m}\u001b[39;00m\u001b[38;5;124m by default \u001b[39m\u001b[38;5;124m\"\u001b[39m\n\u001b[0;32m    320\u001b[0m         \u001b[38;5;124m\"\u001b[39m\u001b[38;5;124mas it is likely to crash IPython. If you know what you are doing, \u001b[39m\u001b[38;5;124m\"\u001b[39m\n\u001b[0;32m    321\u001b[0m         \u001b[38;5;124m\"\u001b[39m\u001b[38;5;124myou can use builtins\u001b[39m\u001b[38;5;124m'\u001b[39m\u001b[38;5;124m open.\u001b[39m\u001b[38;5;124m\"\u001b[39m\n\u001b[0;32m    322\u001b[0m     )\n\u001b[1;32m--> 324\u001b[0m \u001b[38;5;28;01mreturn\u001b[39;00m io_open(file, \u001b[38;5;241m*\u001b[39margs, \u001b[38;5;241m*\u001b[39m\u001b[38;5;241m*\u001b[39mkwargs)\n",
      "\u001b[1;31mFileNotFoundError\u001b[0m: [Errno 2] No such file or directory: 'RandomQUBODepth0Test.p'"
     ]
    }
   ],
   "source": [
    "Random_QUBO_DATA= pkl.load( open (\"RandomQUBODepth0Test.p\", \"rb\") )\n",
    "TSP_MIS_DATA= pkl.load( open (\"TSPMISDepth0Test.p\", \"rb\") )\n",
    "PO_DATA= pkl.load( open (\"PortfolioOptDepth0Test.p\", \"rb\") )\n",
    "\n",
    "p_data = {'Continous':Random_QUBO_DATA[0:4],'Discrete':Random_QUBO_DATA[4:8]} | {'TSP':TSP_MIS_DATA[0:4]} | {'Portfolio Optimization':PO_DATA[0:4]} | {'MIS-GNP':TSP_MIS_DATA[4:8],'MIS-NWS':TSP_MIS_DATA[8:12]}\n",
    "A_list = {prob:p_data[prob][-1] for prob in p_data.keys()}\n",
    "M_list= {prob:[p_data[prob][2][i][-1] for i in range(1000)] for prob in p_data.keys()}\n",
    "\n",
    "m_list = {k:[] for k in p_data.keys()}\n",
    "for prob,idx in product(p_data.keys(),range(1000)):\n",
    "        A = A_list[prob][idx]\n",
    "        m_list[prob].append(-brute_force_maxcut(-A)[-1] )"
   ]
  },
  {
   "cell_type": "code",
   "execution_count": null,
   "id": "1351bbb0-6c0d-4819-9cb4-bd874d017b2b",
   "metadata": {},
   "outputs": [],
   "source": [
    "M_list= {prob:[p_data[prob][2][i][-1] for i in range(1000)] for prob in p_data.keys()}\n",
    "res = 101\n",
    "counts = {prob:[0]*res for prob in p_data.keys()}\n",
    "for prob,idx in product(p_data.keys(),range(1000)):\n",
    "    A = A_list[prob][idx]\n",
    "    M = M_list[prob][idx]\n",
    "    m = m_list[prob][idx]\n",
    "    pre = pre_compute(A)\n",
    "    for i in np.floor(((pre-m)/(M-m))*res):\n",
    "        counts[prob][min(int(i),res-1)]+=1/(2**17 * 1000)\n",
    "    "
   ]
  },
  {
   "cell_type": "code",
   "execution_count": null,
   "id": "a713a4d7-dd74-4666-89fb-55327089e55a",
   "metadata": {},
   "outputs": [],
   "source": [
    "fig,ax = plt.subplots(1,len(p_data.keys()),figsize=(20,3),sharey=False)\n",
    "plt.rcParams['text.latex.preamble'] = r'\\usepackage{amsmath}'\n",
    "for (i,prob) in enumerate(p_data.keys()):\n",
    "    ax[i].stairs(np.array(counts[prob])/np.max(counts[prob]),np.linspace(0,1,res+1),fill=True)\n",
    "    ax[i].set_xlabel(r'${\\alpha}$', fontsize=13)\n",
    "    ax[i].set_title(prob, fontsize=14)\n",
    "    if(i>0):\n",
    "        ax[i].set_yticks([])\n",
    "    else:\n",
    "        ax[i].set_ylabel(r'$P/P_\\mathrm{max}$', fontsize=13)\n",
    "    ax[i].text(0.5,-0.3, r'$P_\\mathrm{max}=$' + str(np.round(np.max(counts[prob])*res,2)), size=14, ha=\"center\", \n",
    "         transform=ax[i].transAxes)\n",
    "plt.subplots_adjust(wspace=0) \n",
    "plt.savefig(r'Figures\\AlphaDistributions.pdf',dpi=300,bbox_inches=\"tight\")\n",
    "plt.show()"
   ]
  }
 ],
 "metadata": {
  "kernelspec": {
   "display_name": "Python 3 (ipykernel)",
   "language": "python",
   "name": "python3"
  },
  "language_info": {
   "codemirror_mode": {
    "name": "ipython",
    "version": 3
   },
   "file_extension": ".py",
   "mimetype": "text/x-python",
   "name": "python",
   "nbconvert_exporter": "python",
   "pygments_lexer": "ipython3",
   "version": "3.12.3"
  }
 },
 "nbformat": 4,
 "nbformat_minor": 5
}
