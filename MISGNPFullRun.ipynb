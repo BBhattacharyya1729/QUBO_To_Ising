{
 "cells": [
  {
   "cell_type": "code",
   "execution_count": 1,
   "id": "d6b04f8c-198b-4928-8167-3a8f0ae65d78",
   "metadata": {},
   "outputs": [
    {
     "name": "stdout",
     "output_type": "stream",
     "text": [
      "(CVXPY) Oct 29 11:03:35 PM: Encountered unexpected exception importing solver OSQP:\n",
      "ImportError('DLL load failed while importing qdldl: The specified module could not be found.')\n"
     ]
    }
   ],
   "source": [
    "from QAOAUtils import *\n",
    "from PSC import *\n",
    "import pickle as pkl\n",
    "from qiskit_algorithms.optimizers import COBYLA"
   ]
  },
  {
   "cell_type": "code",
   "execution_count": 2,
   "id": "fd01b091-6470-48bd-94dc-7f999db0b45c",
   "metadata": {},
   "outputs": [],
   "source": [
    "DATA = pkl.load( open (\"TSPMISDepth0Test.p\", \"rb\") )"
   ]
  },
  {
   "cell_type": "code",
   "execution_count": 3,
   "id": "a448486f-452d-49ff-be6b-d1bf95059ecc",
   "metadata": {},
   "outputs": [],
   "source": [
    "idx_list = np.linspace(50,950,10,dtype='int')\n",
    "\n",
    "MIS_A_list = [DATA[7][i] for i in idx_list]\n",
    "MIS_init_list = [DATA[6][i] for i in idx_list]\n",
    "\n",
    "DATA = []\n",
    "PSC_DATA = []\n",
    "PSC_DATA50 = []\n",
    "ws_list  = ['GW2','GW3', 'BM2', 'BM3', None]\n",
    "###Configure \n",
    "opt=COBYLA(maxiter=50)"
   ]
  },
  {
   "cell_type": "code",
   "execution_count": 4,
   "id": "a8597187-54f7-4b18-98e4-5d9bb783f3ef",
   "metadata": {},
   "outputs": [
    {
     "data": {
      "application/vnd.jupyter.widget-view+json": {
       "model_id": "e666d3d1f48d402bbf0c8a85b3a210ca",
       "version_major": 2,
       "version_minor": 0
      },
      "text/plain": [
       "  0%|          | 0/10 [00:00<?, ?it/s]"
      ]
     },
     "metadata": {},
     "output_type": "display_data"
    }
   ],
   "source": [
    "for _ in tqdm(range(10)):\n",
    "    A = MIS_A_list[_]\n",
    "    initial_data = MIS_init_list[_]\n",
    "    do=warmstart_comp(A=A,opt=opt,p_max=5,rotation_options=[0,-1,None],reps=10,optimizer_kwargs={'name':None,'verbose':False},ws_list=ws_list,initial_data=initial_data,keep_hist=True)\n",
    "    DATA.append(do[-1])"
   ]
  },
  {
   "cell_type": "code",
   "execution_count": 5,
   "id": "a4141890-60b0-492a-9a0f-13d3ccc04b9f",
   "metadata": {},
   "outputs": [],
   "source": [
    "pkl.dump( DATA, open( \"MISGNPFullTest.p\", \"wb\" ) )"
   ]
  },
  {
   "cell_type": "code",
   "execution_count": 4,
   "id": "720608ba-1f6e-49f1-9b5e-211d57392f0d",
   "metadata": {},
   "outputs": [
    {
     "data": {
      "application/vnd.jupyter.widget-view+json": {
       "model_id": "d617575add124640bd51413eda0b5cc5",
       "version_major": 2,
       "version_minor": 0
      },
      "text/plain": [
       "  0%|          | 0/10 [00:00<?, ?it/s]"
      ]
     },
     "metadata": {},
     "output_type": "display_data"
    }
   ],
   "source": [
    "for _ in tqdm(range(10)):\n",
    "    A = MIS_A_list[_]\n",
    "    do = PSC_Run(A,opt,p_max=5,optimizer_kwargs={'name':None,'verbose':False},keep_hist=False,eps=0.1,reps=10)\n",
    "    PSC_DATA.append(do)"
   ]
  },
  {
   "cell_type": "code",
   "execution_count": 5,
   "id": "5aaf6655-6ae2-4046-8d0d-b4bc2194a879",
   "metadata": {},
   "outputs": [],
   "source": [
    "pkl.dump( PSC_DATA, open( \"PSCMISGNPFullTest.p\", \"wb\" ) )"
   ]
  },
  {
   "cell_type": "code",
   "execution_count": 6,
   "id": "1a4418f9-872f-483e-b742-433a41b4b2bc",
   "metadata": {},
   "outputs": [
    {
     "data": {
      "application/vnd.jupyter.widget-view+json": {
       "model_id": "8a88185669d047f3bad260e4b0969f58",
       "version_major": 2,
       "version_minor": 0
      },
      "text/plain": [
       "  0%|          | 0/10 [00:00<?, ?it/s]"
      ]
     },
     "metadata": {},
     "output_type": "display_data"
    }
   ],
   "source": [
    "for _ in tqdm(range(10)):\n",
    "    A = MIS_A_list[_]\n",
    "    do = PSC_Run(A,opt,p_max=5,optimizer_kwargs={'name':None,'verbose':False},keep_hist=False,eps=0.1,reps=10,relaxed_reps=50)\n",
    "    PSC_DATA50.append(do)"
   ]
  },
  {
   "cell_type": "code",
   "execution_count": 7,
   "id": "2af3d9aa-8402-4f50-a97a-8a1571d3ea5d",
   "metadata": {},
   "outputs": [],
   "source": [
    "pkl.dump( PSC_DATA50, open( \"PSCMISGNPFullTest50.p\", \"wb\" ) )"
   ]
  },
  {
   "cell_type": "code",
   "execution_count": null,
   "id": "45974939-b057-4afa-8fa6-2ffffba970e7",
   "metadata": {},
   "outputs": [],
   "source": []
  }
 ],
 "metadata": {
  "kernelspec": {
   "display_name": "Python 3 (ipykernel)",
   "language": "python",
   "name": "python3"
  },
  "language_info": {
   "codemirror_mode": {
    "name": "ipython",
    "version": 3
   },
   "file_extension": ".py",
   "mimetype": "text/x-python",
   "name": "python",
   "nbconvert_exporter": "python",
   "pygments_lexer": "ipython3",
   "version": "3.12.2"
  }
 },
 "nbformat": 4,
 "nbformat_minor": 5
}
