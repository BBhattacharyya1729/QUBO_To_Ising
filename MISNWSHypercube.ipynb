{
 "cells": [
  {
   "cell_type": "code",
   "execution_count": 1,
   "id": "82e7e2a4-0851-4be4-8817-e397815575a0",
   "metadata": {},
   "outputs": [
    {
     "name": "stdout",
     "output_type": "stream",
     "text": [
      "(CVXPY) Oct 30 10:34:45 AM: Encountered unexpected exception importing solver OSQP:\n",
      "ImportError('DLL load failed while importing qdldl: The specified module could not be found.')\n"
     ]
    }
   ],
   "source": [
    "from QAOAUtils import *\n",
    "from PSC import *\n",
    "import pickle as pkl\n",
    "from qiskit_algorithms.optimizers import COBYLA"
   ]
  },
  {
   "cell_type": "code",
   "execution_count": 2,
   "id": "9e5d25ba-1a8b-47d3-a4f8-00bb80358861",
   "metadata": {},
   "outputs": [],
   "source": [
    "DATA = pkl.load( open (\"TSPMISDepth0Test.p\", \"rb\") )\n",
    "PSC_DATA = pkl.load( open (\"PSCTSPFullTest.p\", \"rb\") )\n",
    "PSC_DATA50 = pkl.load( open (\"PSCTSPFullTest50.p\", \"rb\") )"
   ]
  },
  {
   "cell_type": "code",
   "execution_count": 3,
   "id": "7b811bfb-b952-4e1b-9293-077150a084d0",
   "metadata": {},
   "outputs": [],
   "source": [
    "idx_list = np.linspace(0,999,1000,dtype='int')\n",
    "\n",
    "MIS_A_list = []\n",
    "MIS_init_list = []\n",
    "results = {\n",
    "    \"VDISTANCE50\": [],\n",
    "    \"DISTANCE50\": [],\n",
    "    \"VDISTANCE10\": [],\n",
    "    \"DISTANCE10\": [],\n",
    "    \"PSCVDISTANCE50\": [],\n",
    "    \"PSCDISTANCE50\": [],\n",
    "    \"PSCDISTANCE10\": [],\n",
    "    \"PSCVDISTANCE10\": []\n",
    "}\n",
    "\n",
    "for i in idx_list:\n",
    "    MIS_A_list = [DATA[11][i] for i in idx_list]\n",
    "    MIS_init_list = [DATA[10][i] for i in idx_list]"
   ]
  },
  {
   "cell_type": "code",
   "execution_count": 4,
   "id": "5e477cfa-3294-4b4b-8998-eb893ca1dc80",
   "metadata": {},
   "outputs": [],
   "source": [
    "idx_list = np.linspace(0,9,10, dtype='int')\n",
    "\n",
    "PSC_A_list = []\n",
    "\n",
    "for i in idx_list:\n",
    "    PSC_A_list.append(DATA[11][i])"
   ]
  },
  {
   "cell_type": "code",
   "execution_count": 5,
   "id": "c167c647-3c61-4d94-ab59-45078e4e7c00",
   "metadata": {},
   "outputs": [],
   "source": [
    "A = PSC_A_list[0]\n",
    "v = PSC_DATA[9][0]['vals']\n",
    "round_v = np.round(v)\n",
    "dist = np.linalg.norm(v-round_v)"
   ]
  },
  {
   "cell_type": "code",
   "execution_count": 6,
   "id": "a5b4bcdf-8128-476d-848d-e59f0aa60817",
   "metadata": {},
   "outputs": [
    {
     "data": {
      "application/vnd.jupyter.widget-view+json": {
       "model_id": "bbbf042e015e457bb07385c8b95852a2",
       "version_major": 2,
       "version_minor": 0
      },
      "text/plain": [
       "  0%|          | 0/10 [00:00<?, ?it/s]"
      ]
     },
     "metadata": {},
     "output_type": "display_data"
    }
   ],
   "source": [
    "for A in tqdm(PSC_A_list):\n",
    "    for i in range(10):\n",
    "        v = PSC_DATA[i][0]['vals']\n",
    "        v_round = round_v\n",
    "        results[\"PSCVDISTANCE10\"].append(np.linalg.norm(v - v_round))"
   ]
  },
  {
   "cell_type": "code",
   "execution_count": 7,
   "id": "ddc6b630-e81c-4971-b664-002a29482094",
   "metadata": {},
   "outputs": [
    {
     "data": {
      "application/vnd.jupyter.widget-view+json": {
       "model_id": "32746012f9dd487fa9bac577823e0429",
       "version_major": 2,
       "version_minor": 0
      },
      "text/plain": [
       "  0%|          | 0/10 [00:00<?, ?it/s]"
      ]
     },
     "metadata": {},
     "output_type": "display_data"
    }
   ],
   "source": [
    "for A in tqdm(PSC_A_list):\n",
    "    t=[map_reduce(v) for v in brute_force_maxcut(A)[0]]\n",
    "    results[\"PSCDISTANCE10\"].append(np.min([np.linalg.norm(v-i) for i in t]))"
   ]
  },
  {
   "cell_type": "code",
   "execution_count": 8,
   "id": "d1bce178-388c-41bd-b511-22068c565fe9",
   "metadata": {},
   "outputs": [
    {
     "data": {
      "application/vnd.jupyter.widget-view+json": {
       "model_id": "c06f66f51ce742338bbcfb4c555f183d",
       "version_major": 2,
       "version_minor": 0
      },
      "text/plain": [
       "  0%|          | 0/10 [00:00<?, ?it/s]"
      ]
     },
     "metadata": {},
     "output_type": "display_data"
    }
   ],
   "source": [
    "for A in tqdm(PSC_A_list):\n",
    "    for i in range(10):\n",
    "        v = PSC_DATA50[i][0]['vals']\n",
    "        v_round = round_v\n",
    "        results[\"PSCVDISTANCE50\"].append(np.linalg.norm(v - v_round))"
   ]
  },
  {
   "cell_type": "code",
   "execution_count": 9,
   "id": "94f57b8b-341a-4f51-8982-1dcbe3b33153",
   "metadata": {},
   "outputs": [
    {
     "data": {
      "application/vnd.jupyter.widget-view+json": {
       "model_id": "bc6fddc7b3f243a8bc73d39f35066739",
       "version_major": 2,
       "version_minor": 0
      },
      "text/plain": [
       "  0%|          | 0/10 [00:00<?, ?it/s]"
      ]
     },
     "metadata": {},
     "output_type": "display_data"
    }
   ],
   "source": [
    "for A in tqdm(PSC_A_list):\n",
    "    t=[map_reduce(v) for v in brute_force_maxcut(A)[0]]\n",
    "    results[\"PSCDISTANCE50\"].append(np.min([np.linalg.norm(v-i) for i in t]))"
   ]
  },
  {
   "cell_type": "code",
   "execution_count": 4,
   "id": "8cdda535-abe7-444c-899f-26c034fc1fcb",
   "metadata": {},
   "outputs": [],
   "source": [
    "A = MIS_A_list[0]\n",
    "Q = -A[:-1,:-1]\n",
    "v = relax_solve(Q,reps=50)\n",
    "round_v = np.round(v)\n",
    "dist = np.linalg.norm(v-round_v)"
   ]
  },
  {
   "cell_type": "code",
   "execution_count": 5,
   "id": "a3bcabd2-1323-4657-b4e1-0625a7e8257a",
   "metadata": {},
   "outputs": [
    {
     "data": {
      "application/vnd.jupyter.widget-view+json": {
       "model_id": "7fde634649734dd1ad3c1b1953905eb5",
       "version_major": 2,
       "version_minor": 0
      },
      "text/plain": [
       "  0%|          | 0/1000 [00:00<?, ?it/s]"
      ]
     },
     "metadata": {},
     "output_type": "display_data"
    }
   ],
   "source": [
    "for A in tqdm(MIS_A_list):\n",
    "    Q = -A[:-1,:-1]\n",
    "    v = relax_solve(Q,reps=50)\n",
    "    v_round = round_v\n",
    "    results[\"VDISTANCE50\"].append(np.linalg.norm(v-v_round))"
   ]
  },
  {
   "cell_type": "code",
   "execution_count": 6,
   "id": "d6a54619-4b2b-4253-8a53-2751a357fdef",
   "metadata": {},
   "outputs": [
    {
     "data": {
      "application/vnd.jupyter.widget-view+json": {
       "model_id": "84fd4a7f3343469fad99dd160846d7ba",
       "version_major": 2,
       "version_minor": 0
      },
      "text/plain": [
       "  0%|          | 0/1000 [00:00<?, ?it/s]"
      ]
     },
     "metadata": {},
     "output_type": "display_data"
    }
   ],
   "source": [
    "for A in tqdm(MIS_A_list):\n",
    "    t=[map_reduce(v) for v in brute_force_maxcut(A)[0]]\n",
    "    results[\"DISTANCE50\"].append(np.min([np.linalg.norm(v-i) for i in t]))"
   ]
  },
  {
   "cell_type": "code",
   "execution_count": 7,
   "id": "508f2784-7165-435a-8fc9-175850a26faf",
   "metadata": {},
   "outputs": [],
   "source": [
    "A = MIS_A_list[0]\n",
    "Q = -A[:-1,:-1]\n",
    "v = relax_solve(Q,reps=10)\n",
    "round_v = np.round(v)\n",
    "dist = np.linalg.norm(v-round_v)"
   ]
  },
  {
   "cell_type": "code",
   "execution_count": 8,
   "id": "65af26a3-ab68-430e-9019-dc19af1cf615",
   "metadata": {},
   "outputs": [
    {
     "data": {
      "application/vnd.jupyter.widget-view+json": {
       "model_id": "8595861d79bb4fc181421b870b30a43c",
       "version_major": 2,
       "version_minor": 0
      },
      "text/plain": [
       "  0%|          | 0/1000 [00:00<?, ?it/s]"
      ]
     },
     "metadata": {},
     "output_type": "display_data"
    }
   ],
   "source": [
    "for A in tqdm(MIS_A_list):\n",
    "    Q = -A[:-1,:-1]\n",
    "    v = relax_solve(Q,reps=10)\n",
    "    v_round = round_v\n",
    "    results[\"VDISTANCE10\"].append(np.linalg.norm(v-v_round))"
   ]
  },
  {
   "cell_type": "code",
   "execution_count": 9,
   "id": "7390c366-63b2-4aab-b2ef-e8d1a0e13bea",
   "metadata": {},
   "outputs": [
    {
     "data": {
      "application/vnd.jupyter.widget-view+json": {
       "model_id": "84521826a1f446a4a14c802a5146ce2a",
       "version_major": 2,
       "version_minor": 0
      },
      "text/plain": [
       "  0%|          | 0/1000 [00:00<?, ?it/s]"
      ]
     },
     "metadata": {},
     "output_type": "display_data"
    }
   ],
   "source": [
    "for A in tqdm(MIS_A_list):\n",
    "    t=[map_reduce(v) for v in brute_force_maxcut(A)[0]]\n",
    "    results[\"DISTANCE10\"].append(np.min([np.linalg.norm(v-i) for i in t]))"
   ]
  },
  {
   "cell_type": "code",
   "execution_count": 10,
   "id": "9dcd8d96-df5b-4437-b3d8-7325acafa931",
   "metadata": {},
   "outputs": [],
   "source": [
    "with open(\"DistancesMIS-NWS.p\", \"wb\") as file:\n",
    "    pkl.dump(results, file)"
   ]
  },
  {
   "cell_type": "code",
   "execution_count": null,
   "id": "25796f59-4de8-44ec-9801-39966b8a2bc5",
   "metadata": {},
   "outputs": [],
   "source": []
  }
 ],
 "metadata": {
  "kernelspec": {
   "display_name": "Python 3 (ipykernel)",
   "language": "python",
   "name": "python3"
  },
  "language_info": {
   "codemirror_mode": {
    "name": "ipython",
    "version": 3
   },
   "file_extension": ".py",
   "mimetype": "text/x-python",
   "name": "python",
   "nbconvert_exporter": "python",
   "pygments_lexer": "ipython3",
   "version": "3.12.2"
  }
 },
 "nbformat": 4,
 "nbformat_minor": 5
}
