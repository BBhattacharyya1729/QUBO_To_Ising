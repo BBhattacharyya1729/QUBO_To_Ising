{
 "cells": [
  {
   "cell_type": "code",
   "execution_count": 28,
   "id": "44359088-cb43-48d8-8903-e07b1371398c",
   "metadata": {},
   "outputs": [],
   "source": [
    "from QAOAUtils import *\n",
    "from oputils import *\n",
    "import pickle as pkl\n",
    "import numpy as np"
   ]
  },
  {
   "cell_type": "code",
   "execution_count": 29,
   "id": "239f436d-90d1-4150-8ba7-e6e59d1abebc",
   "metadata": {},
   "outputs": [],
   "source": [
    "DATA = []\n",
    "ws_list = ['GW2','GW3','BM2','BM3']\n",
    "n = 10\n",
    "rotation_options = list(range(n))+[None]"
   ]
  },
  {
   "cell_type": "code",
   "execution_count": 30,
   "id": "21775aef-7f75-41a5-8a2e-e2538ede7141",
   "metadata": {},
   "outputs": [],
   "source": [
    "def TSP_QUBO(n,max_val,eps_list):\n",
    "    points = np.random.random((n,2)) * max_val * 2 - max_val\n",
    "    W_mat = np.array([[np.linalg.norm(points[i]-points[j]) for i in range(n)] for j in range(n)])\n",
    "\n",
    "    A_list = [num_to_bin((1+eps)*np.max(W_mat),(n-1)**2) for eps in eps_list]\n",
    "    reward = num_to_bin(0,(n-1)**2)\n",
    "    for i in range(0,n-1):\n",
    "        for j in range(0,n-1):\n",
    "            for t in range(0,n-2):\n",
    "                reward += num_to_bin(W_mat[i+1][j+1],(n-1)**2) * indexed_bin_op((n-1)*t+i,(n-1)**2) *  indexed_bin_op((n-1)*(t+1)+j,(n-1)**2)\n",
    "        reward += num_to_bin(W_mat[0][i+1],(n-1)**2) * indexed_bin_op(i,(n-1)**2) \n",
    "        reward += num_to_bin(W_mat[0][i+1],(n-1)**2) *  indexed_bin_op((n-1)*(n-2)+i,(n-1)**2)\n",
    "    \n",
    "    penalty1=num_to_bin(0,(n-1)**2)\n",
    "    for t in range(n-1):\n",
    "        temp_op = num_to_bin(1,(n-1)**2)\n",
    "        for i in range(n-1):\n",
    "            temp_op -= indexed_bin_op((n-1)*t+i,(n-1)**2)\n",
    "        penalty1+=temp_op**2\n",
    "    \n",
    "    penalty2=num_to_bin(0,(n-1)**2)\n",
    "    for i in range(n-1):\n",
    "        temp_op = num_to_bin(1,(n-1)**2)\n",
    "        for t in range(n-1):\n",
    "            temp_op -= indexed_bin_op((n-1)*t+i,(n-1)**2)\n",
    "        penalty2+=temp_op**2\n",
    "    \n",
    "    cost = [reward+A*(penalty1+penalty2) for A in A_list]\n",
    "\n",
    "    return points,W_mat, [bin_to_qubo(c) for c in cost]"
   ]
  },
  {
   "cell_type": "code",
   "execution_count": 31,
   "id": "cf86ce1b-2fd0-4fc7-8879-13cb714cd2a2",
   "metadata": {},
   "outputs": [],
   "source": [
    "def MIS_QUBO(n,A_list,graph='gnp'):\n",
    "    if(graph == 'gnp'):\n",
    "        G=nx.gnp_random_graph(n,0.25)\n",
    "        return  [np.diag(np.ones(n))- (A/2) *nx.adjacency_matrix(G).toarray() for A in A_list]\n",
    "    elif(graph=='nws'):\n",
    "        G=nx.newman_watts_strogatz_graph(n,3,0.5)\n",
    "        return [np.diag(np.ones(n))- (A/2) *nx.adjacency_matrix(G).toarray() for A in A_list]\n",
    "    elif(graph=='regular'):\n",
    "        G=nx.random_regular_graph(3,n)\n",
    "        return [np.diag(np.ones(n))-(A/2) *nx.adjacency_matrix(G).toarray() for A in A_list]\n",
    "    else:\n",
    "        return \"????\""
   ]
  },
  {
   "cell_type": "code",
   "execution_count": 37,
   "id": "afb41327-b2d3-42e2-91e9-a717fd812ef3",
   "metadata": {},
   "outputs": [],
   "source": [
    "def depth0_ws_comp(n,A_list,ws_list = ['BM2','BM3','GW2','GW3'],rotation_options = None):\n",
    "    if(rotation_options is None):\n",
    "        rotation_options = list(range(n))+[None]\n",
    "    best_angle_data = {ws: {'max_cost':[],'max_probs':[]}  for ws in ws_list}\n",
    "    comparison_data = {ws: {-1:{'cost':[],'probs':[]},0:{'cost':[],'probs':[]},None:{'cost':[],'probs':[]}}  for ws in ws_list} | {None:{'cost':[], 'probs':[]}}\n",
    "    ws_data = []\n",
    "    for _ in tqdm(range(len(A_list))):\n",
    "\n",
    "        A = A_list[_]\n",
    "        initial_data = initialize(A)\n",
    "        precomp = initial_data[0]\n",
    "        BM2_theta_list = initial_data[1]\n",
    "        BM3_theta_list = initial_data[2]\n",
    "        GW2_theta_list = initial_data[3]\n",
    "        GW3_theta_list = initial_data[4]\n",
    "        v = initial_data[5]\n",
    "        M = initial_data[6]\n",
    "        ws_data.append(initial_data)\n",
    "        A_list.append(A)\n",
    "        qc_data = {'BM2':{r: Q2_data(BM2_theta_list,r) for r in rotation_options},\n",
    "        'BM3':{r:Q3_data(BM3_theta_list,r) for r in rotation_options},\n",
    "        'GW2':{r:Q2_data(GW2_theta_list,r) for r in rotation_options},\n",
    "        'GW3':{r:Q3_data(GW3_theta_list,r) for r in rotation_options}}\n",
    "    \n",
    "        opt_data = {ws:{'cost':[],'probs':[]} for ws in ws_list}\n",
    "        \n",
    "        for ws in ws_list:\n",
    "            for r in rotation_options:\n",
    "                opt_data[ws]['cost'].append(expval(precomp,QAOA_eval(precomp,[],mixer_ops=qc_data[ws][r][1],init=qc_data[ws][r][0])))\n",
    "                opt_data[ws]['probs'].append(opt_sampling_prob(v,precomp,[],mixer_ops=qc_data[ws][r][1],init=qc_data[ws][r][0]))\n",
    "            l = np.argwhere(opt_data[ws]['cost']==np.max(opt_data[ws]['cost']))\n",
    "            l = np.reshape(l,(len(l),))\n",
    "            best_angle_data[ws]['max_cost']+=[l.tolist()]\n",
    "            l = np.argwhere(opt_data[ws]['probs']==np.max(opt_data[ws]['probs']))\n",
    "            l = np.reshape(l,(len(l),))\n",
    "            best_angle_data[ws]['max_probs']+=[l.tolist()]\n",
    "\n",
    "            comparison_data[ws][-1]['cost'].append(opt_data[ws]['cost'][-2])\n",
    "            comparison_data[ws][-1]['probs'].append(opt_data[ws]['probs'][-2])\n",
    "            comparison_data[ws][None]['cost'].append(opt_data[ws]['cost'][-1])\n",
    "            comparison_data[ws][None]['probs'].append(opt_data[ws]['probs'][-1])\n",
    "            comparison_data[ws][0]['cost'].append(opt_data[ws]['cost'][0])\n",
    "            comparison_data[ws][0]['probs'].append(opt_data[ws]['probs'][0])\n",
    "            \n",
    "            comparison_data[None]['cost'].append(expval(precomp,QAOA_eval(precomp,[])))\n",
    "            comparison_data[None]['probs'].append(opt_sampling_prob(v,precomp,[]))\n",
    "    return comparison_data,best_angle_data,ws_data,A_list"
   ]
  },
  {
   "cell_type": "code",
   "execution_count": 38,
   "id": "8e9c251e-edc2-468d-aaee-505c929a5f82",
   "metadata": {},
   "outputs": [
    {
     "data": {
      "text/plain": [
       "[(10, 10),\n",
       " (10, 10),\n",
       " (10, 10),\n",
       " (10, 10),\n",
       " (10, 10),\n",
       " (10, 10),\n",
       " (10, 10),\n",
       " (10, 10),\n",
       " (10, 10),\n",
       " (10, 10),\n",
       " (10, 10),\n",
       " (10, 10),\n",
       " (10, 10),\n",
       " (10, 10),\n",
       " (10, 10),\n",
       " (10, 10),\n",
       " (10, 10),\n",
       " (10, 10),\n",
       " (10, 10),\n",
       " (10, 10),\n",
       " (10, 10),\n",
       " (10, 10),\n",
       " (10, 10),\n",
       " (10, 10),\n",
       " (10, 10)]"
      ]
     },
     "execution_count": 38,
     "metadata": {},
     "output_type": "execute_result"
    }
   ],
   "source": [
    "[dual_graph(x[-1]).shape for x in TSP_QUBO(4,1,np.linspace(0.1,1.1,25))[-1]]"
   ]
  },
  {
   "cell_type": "code",
   "execution_count": 55,
   "id": "b2dbe2a9-022e-41bb-82eb-8a2e84858fa2",
   "metadata": {},
   "outputs": [
    {
     "data": {
      "application/vnd.jupyter.widget-view+json": {
       "model_id": "a1c3b49f93cd4ab7873516028c13fb22",
       "version_major": 2,
       "version_minor": 0
      },
      "text/plain": [
       "  0%|          | 0/100 [00:00<?, ?it/s]"
      ]
     },
     "metadata": {},
     "output_type": "display_data"
    }
   ],
   "source": [
    "A_list = reduce(lambda a,b: a+b, [[dual_graph(-x[-1]) for x in TSP_QUBO(4,1,np.linspace(0.1,1.1,5))[-1]] for i in range(20)])\n",
    "comparison_data,best_angle_data,ws_data,A_list= depth0_ws_comp(n,A_list,ws_list = ws_list,rotation_options = rotation_options)\n",
    "DATA+=[comparison_data,best_angle_data,ws_data,A_list]"
   ]
  },
  {
   "cell_type": "code",
   "execution_count": 57,
   "id": "0b65b64c-148b-4d86-8c48-d46d9fba9de0",
   "metadata": {},
   "outputs": [
    {
     "data": {
      "application/vnd.jupyter.widget-view+json": {
       "model_id": "6cba7884fa764744950ecfa8a26ffd3e",
       "version_major": 2,
       "version_minor": 0
      },
      "text/plain": [
       "  0%|          | 0/100 [00:00<?, ?it/s]"
      ]
     },
     "metadata": {},
     "output_type": "display_data"
    }
   ],
   "source": [
    "A_list = reduce(lambda a,b: a+b, [[dual_graph(x) for x in MIS_QUBO(9, np.linspace(1.1,2.1,5))] for i in range(20)])\n",
    "comparison_data,best_angle_data,ws_data,A_list= depth0_ws_comp(n,A_list,ws_list = ws_list,rotation_options = rotation_options)\n",
    "DATA+=[comparison_data,best_angle_data,ws_data,A_list]"
   ]
  },
  {
   "cell_type": "code",
   "execution_count": 58,
   "id": "ff739535-7e85-4d5e-95b2-e5db7ae9ae6b",
   "metadata": {},
   "outputs": [
    {
     "data": {
      "application/vnd.jupyter.widget-view+json": {
       "model_id": "ea5c8e54ed3648b79936c44845570c3d",
       "version_major": 2,
       "version_minor": 0
      },
      "text/plain": [
       "  0%|          | 0/100 [00:00<?, ?it/s]"
      ]
     },
     "metadata": {},
     "output_type": "display_data"
    }
   ],
   "source": [
    "A_list = reduce(lambda a,b: a+b, [[dual_graph(x) for x in MIS_QUBO(9, np.linspace(1.1,2.1,5),'nws')] for i in range(20)])\n",
    "comparison_data,best_angle_data,ws_data,A_list= depth0_ws_comp(n,A_list,ws_list = ws_list,rotation_options = rotation_options)\n",
    "DATA+=[comparison_data,best_angle_data,ws_data,A_list]"
   ]
  },
  {
   "cell_type": "code",
   "execution_count": 54,
   "id": "b16d5d60-ef40-4db6-a30b-d6b24e4bfa14",
   "metadata": {},
   "outputs": [
    {
     "name": "stdout",
     "output_type": "stream",
     "text": [
      "100\n"
     ]
    }
   ],
   "source": [
    "reduce(lambda a,b: a+b, [[dual_graph(x) for x in TSP_QUBO(4,1,np.linspace(1.1,2.1,5)) for i in range(20)])"
   ]
  },
  {
   "cell_type": "code",
   "execution_count": 71,
   "id": "46cf0910-c7e8-4c17-bcb1-e5d0c438874b",
   "metadata": {},
   "outputs": [],
   "source": [
    "l=[[np.array(np.linspace(0,95,20),dtype='int')+i] for i in range(5)]"
   ]
  },
  {
   "cell_type": "code",
   "execution_count": 72,
   "id": "3472c00f-7d09-40f3-b9b2-5eee9ec2b999",
   "metadata": {},
   "outputs": [],
   "source": [
    "p_data = {'TSP':DATA[0:4],'MIS-GNP':DATA[4:8],'MIS-NWS':DATA[8:12]}"
   ]
  },
  {
   "cell_type": "code",
   "execution_count": 73,
   "id": "4b239469-7ed8-4871-b902-90b944d581ff",
   "metadata": {},
   "outputs": [
    {
     "ename": "IndexError",
     "evalue": "too many indices for array: array is 0-dimensional, but 1 were indexed",
     "output_type": "error",
     "traceback": [
      "\u001b[1;31m---------------------------------------------------------------------------\u001b[0m",
      "\u001b[1;31mIndexError\u001b[0m                                Traceback (most recent call last)",
      "Cell \u001b[1;32mIn[73], line 1\u001b[0m\n\u001b[1;32m----> 1\u001b[0m {\u001b[38;5;124m\"\u001b[39m\u001b[38;5;124mTSP_\u001b[39m\u001b[38;5;124m\"\u001b[39m\u001b[38;5;241m+\u001b[39m\u001b[38;5;28mstr\u001b[39m(i):[np\u001b[38;5;241m.\u001b[39marray(x)[l[i]] \u001b[38;5;28;01mfor\u001b[39;00m x \u001b[38;5;129;01min\u001b[39;00m p_data[\u001b[38;5;124m\"\u001b[39m\u001b[38;5;124mTSP\u001b[39m\u001b[38;5;124m\"\u001b[39m]] \u001b[38;5;28;01mfor\u001b[39;00m i \u001b[38;5;129;01min\u001b[39;00m \u001b[38;5;28mrange\u001b[39m(\u001b[38;5;241m5\u001b[39m)}\n",
      "\u001b[1;31mIndexError\u001b[0m: too many indices for array: array is 0-dimensional, but 1 were indexed"
     ]
    }
   ],
   "source": [
    "{\"TSP_\"+str(i):[np.array(x)[l[i]] for x in p_data[\"TSP\"]] for i in range(5)}"
   ]
  },
  {
   "cell_type": "code",
   "execution_count": 74,
   "id": "5668a645-33b9-40bd-85db-7f35c9061157",
   "metadata": {},
   "outputs": [
    {
     "name": "stdout",
     "output_type": "stream",
     "text": [
      "[{'GW2': {-1: {'cost': [], 'probs': []}, 0: {'cost': [], 'probs': []}, None: {'cost': [], 'probs': []}}, 'GW3': {-1: {'cost': [], 'probs': []}, 0: {'cost': [], 'probs': []}, None: {'cost': [], 'probs': []}}, 'BM2': {-1: {'cost': [], 'probs': []}, 0: {'cost': [], 'probs': []}, None: {'cost': [], 'probs': []}}, 'BM3': {-1: {'cost': [], 'probs': []}, 0: {'cost': [], 'probs': []}, None: {'cost': [], 'probs': []}}, None: {'cost': [], 'probs': []}}, {'GW2': {'max_cost': [], 'max_probs': []}, 'GW3': {'max_cost': [], 'max_probs': []}, 'BM2': {'max_cost': [], 'max_probs': []}, 'BM3': {'max_cost': [], 'max_probs': []}}, [], []]\n"
     ]
    }
   ],
   "source": [
    "print(p_data[\"TSP\"])"
   ]
  },
  {
   "cell_type": "code",
   "execution_count": null,
   "id": "943908bb-5e36-45b1-830f-0306bfde48dd",
   "metadata": {},
   "outputs": [],
   "source": []
  }
 ],
 "metadata": {
  "kernelspec": {
   "display_name": "Python 3 (ipykernel)",
   "language": "python",
   "name": "python3"
  },
  "language_info": {
   "codemirror_mode": {
    "name": "ipython",
    "version": 3
   },
   "file_extension": ".py",
   "mimetype": "text/x-python",
   "name": "python",
   "nbconvert_exporter": "python",
   "pygments_lexer": "ipython3",
   "version": "3.12.2"
  }
 },
 "nbformat": 4,
 "nbformat_minor": 5
}
