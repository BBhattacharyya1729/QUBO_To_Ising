{
 "cells": [
  {
   "cell_type": "code",
   "execution_count": 1,
   "id": "ad9b2679-fb42-44e5-97ba-075818c72766",
   "metadata": {},
   "outputs": [
    {
     "name": "stdout",
     "output_type": "stream",
     "text": [
      "(CVXPY) Oct 29 04:55:51 PM: Encountered unexpected exception importing solver OSQP:\n",
      "ImportError('DLL load failed while importing qdldl: The specified module could not be found.')\n"
     ]
    }
   ],
   "source": [
    "from QAOAUtils import *\n",
    "from PSC import *\n",
    "import pickle as pkl\n",
    "from qiskit_algorithms.optimizers import COBYLA"
   ]
  },
  {
   "cell_type": "code",
   "execution_count": 2,
   "id": "7314e80e-133e-47ec-bc4a-0c63698ea471",
   "metadata": {},
   "outputs": [],
   "source": [
    "DATA = pkl.load( open (\"RandomQUBODepth0Test.p\", \"rb\") )"
   ]
  },
  {
   "cell_type": "code",
   "execution_count": 3,
   "id": "659e955a-69ba-4cec-8f5f-e3297b4c55c5",
   "metadata": {},
   "outputs": [],
   "source": [
    "idx_list = np.linspace(0,999,1000,dtype='int')\n",
    "\n",
    "cont_A_list = []\n",
    "cont_init_list = []\n",
    "\n",
    "results_cont = {\n",
    "    \"VDISTANCE50_cont\": [],\n",
    "    \"DISTANCE50_cont\": [],\n",
    "    \"VDISTANCE10_cont\": [],\n",
    "    \"DISTANCE10_cont\": []\n",
    "}\n",
    "\n",
    "for i in idx_list:\n",
    "    cont_A_list.append(DATA[3][i])\n",
    "    cont_init_list.append(DATA[2][i])"
   ]
  },
  {
   "cell_type": "code",
   "execution_count": 4,
   "id": "7eb4f5d8-65b0-4e6e-932f-b1811b595097",
   "metadata": {},
   "outputs": [],
   "source": [
    "A = cont_A_list[0]\n",
    "Q = -A[:-1,:-1]\n",
    "v = relax_solve(Q,reps=50)\n",
    "round_v = np.round(v)\n",
    "dist = np.linalg.norm(v-round_v)"
   ]
  },
  {
   "cell_type": "code",
   "execution_count": 5,
   "id": "dcd0a90d-d583-4017-814e-8d8aabbd2b49",
   "metadata": {},
   "outputs": [
    {
     "data": {
      "application/vnd.jupyter.widget-view+json": {
       "model_id": "bd835a48fdfe4aa78c81545711c91e93",
       "version_major": 2,
       "version_minor": 0
      },
      "text/plain": [
       "  0%|          | 0/1000 [00:00<?, ?it/s]"
      ]
     },
     "metadata": {},
     "output_type": "display_data"
    }
   ],
   "source": [
    "for A in tqdm(cont_A_list):\n",
    "    Q = -A[:-1,:-1]\n",
    "    v = relax_solve(Q,reps=50)\n",
    "    v_round = round_v\n",
    "    results_cont[\"VDISTANCE50_cont\"].append(np.linalg.norm(v-v_round))"
   ]
  },
  {
   "cell_type": "code",
   "execution_count": 6,
   "id": "587daacb-1a3f-474a-b920-ace4a1f9a954",
   "metadata": {},
   "outputs": [
    {
     "data": {
      "application/vnd.jupyter.widget-view+json": {
       "model_id": "2292d0d39f6c41a3a4e0302405abba2d",
       "version_major": 2,
       "version_minor": 0
      },
      "text/plain": [
       "  0%|          | 0/1000 [00:00<?, ?it/s]"
      ]
     },
     "metadata": {},
     "output_type": "display_data"
    }
   ],
   "source": [
    "for A in tqdm(cont_A_list):\n",
    "    t=[map_reduce(v) for v in brute_force_maxcut(A)[0]]\n",
    "    results_cont[\"DISTANCE50_cont\"].append(np.min([np.linalg.norm(v-i) for i in t]))"
   ]
  },
  {
   "cell_type": "code",
   "execution_count": 7,
   "id": "8c10f8c8-1edb-48c6-8491-42a448ada05b",
   "metadata": {},
   "outputs": [],
   "source": [
    "A = cont_A_list[0]\n",
    "Q = -A[:-1,:-1]\n",
    "v = relax_solve(Q,reps=10)\n",
    "round_v = np.round(v)\n",
    "dist = np.linalg.norm(v-round_v)"
   ]
  },
  {
   "cell_type": "code",
   "execution_count": 8,
   "id": "28175e3e-3d22-4ae6-a24a-6ea7e09c5338",
   "metadata": {},
   "outputs": [
    {
     "data": {
      "application/vnd.jupyter.widget-view+json": {
       "model_id": "1b21fc6c5bdd4644b47626cbea0648b8",
       "version_major": 2,
       "version_minor": 0
      },
      "text/plain": [
       "  0%|          | 0/1000 [00:00<?, ?it/s]"
      ]
     },
     "metadata": {},
     "output_type": "display_data"
    }
   ],
   "source": [
    "VDISTANCE10_cont = []\n",
    "for A in tqdm(cont_A_list):\n",
    "    Q = -A[:-1,:-1]\n",
    "    v = relax_solve(Q,reps=10)\n",
    "    v_round = round_v\n",
    "    results_cont[\"VDISTANCE10_cont\"].append(np.linalg.norm(v-v_round))"
   ]
  },
  {
   "cell_type": "code",
   "execution_count": 9,
   "id": "ee12bacc-3c23-433e-afd2-f25202973430",
   "metadata": {},
   "outputs": [
    {
     "data": {
      "application/vnd.jupyter.widget-view+json": {
       "model_id": "c085fad2f90a463abd6db91372b5cafb",
       "version_major": 2,
       "version_minor": 0
      },
      "text/plain": [
       "  0%|          | 0/1000 [00:00<?, ?it/s]"
      ]
     },
     "metadata": {},
     "output_type": "display_data"
    }
   ],
   "source": [
    "DISTANCE10_cont = []\n",
    "for A in tqdm(cont_A_list):\n",
    "    t=[map_reduce(v) for v in brute_force_maxcut(A)[0]]\n",
    "    results_cont[\"DISTANCE10_cont\"].append(np.min([np.linalg.norm(v-i) for i in t]))"
   ]
  },
  {
   "cell_type": "code",
   "execution_count": 10,
   "id": "81144d37-8df8-4e5a-b70b-a02ad2a1b284",
   "metadata": {},
   "outputs": [],
   "source": [
    "with open(\"DistancesRandomQUBO_cont.p\", \"wb\") as file:\n",
    "    pkl.dump(results_cont, file)"
   ]
  },
  {
   "cell_type": "code",
   "execution_count": 11,
   "id": "87d51a9f-61f9-42a3-a92e-b8e9b35261ac",
   "metadata": {},
   "outputs": [],
   "source": [
    "idx_list = np.linspace(0,999,1000,dtype='int')\n",
    "\n",
    "disc_A_list = []\n",
    "disc_init_list = []\n",
    "\n",
    "results_disc = {\n",
    "    \"VDISTANCE50_disc\": [],\n",
    "    \"DISTANCE50_disc\": [],\n",
    "    \"VDISTANCE10_disc\": [],\n",
    "    \"DISTANCE10_disc\": []\n",
    "}\n",
    "\n",
    "for i in idx_list:\n",
    "    disc_A_list.append(DATA[7][i])\n",
    "    disc_init_list.append(DATA[6][i])"
   ]
  },
  {
   "cell_type": "code",
   "execution_count": 12,
   "id": "54c2fc0e-d78a-4ac7-9066-fd7c3f2fd829",
   "metadata": {},
   "outputs": [],
   "source": [
    "A = disc_A_list[0]\n",
    "Q = -A[:-1,:-1]\n",
    "v = relax_solve(Q,reps=50)\n",
    "round_v = np.round(v)\n",
    "dist = np.linalg.norm(v-round_v)"
   ]
  },
  {
   "cell_type": "code",
   "execution_count": 13,
   "id": "534aadc1-2b95-4573-b95a-a33e8514d734",
   "metadata": {},
   "outputs": [
    {
     "data": {
      "application/vnd.jupyter.widget-view+json": {
       "model_id": "4e11ca9dac8e4c90b56f895c03511b14",
       "version_major": 2,
       "version_minor": 0
      },
      "text/plain": [
       "  0%|          | 0/1000 [00:00<?, ?it/s]"
      ]
     },
     "metadata": {},
     "output_type": "display_data"
    }
   ],
   "source": [
    "for A in tqdm(disc_A_list):\n",
    "    Q = -A[:-1,:-1]\n",
    "    v = relax_solve(Q,reps=50)\n",
    "    v_round = round_v\n",
    "    results_disc[\"VDISTANCE50_disc\"].append(np.linalg.norm(v-v_round))"
   ]
  },
  {
   "cell_type": "code",
   "execution_count": 14,
   "id": "e59bc3f8-d7db-4c91-8ee6-7905fef65e50",
   "metadata": {},
   "outputs": [
    {
     "data": {
      "application/vnd.jupyter.widget-view+json": {
       "model_id": "cd769aa80bcd4659a4d09245c60effb0",
       "version_major": 2,
       "version_minor": 0
      },
      "text/plain": [
       "  0%|          | 0/1000 [00:00<?, ?it/s]"
      ]
     },
     "metadata": {},
     "output_type": "display_data"
    }
   ],
   "source": [
    "for A in tqdm(disc_A_list):\n",
    "    t=[map_reduce(v) for v in brute_force_maxcut(A)[0]]\n",
    "    results_disc[\"DISTANCE50_disc\"].append(np.min([np.linalg.norm(v-i) for i in t]))"
   ]
  },
  {
   "cell_type": "code",
   "execution_count": 15,
   "id": "b02ed522-cf3a-4715-a034-857d4f0dc216",
   "metadata": {},
   "outputs": [],
   "source": [
    "A = disc_A_list[0]\n",
    "Q = -A[:-1,:-1]\n",
    "v = relax_solve(Q,reps=10)\n",
    "round_v = np.round(v)\n",
    "dist = np.linalg.norm(v-round_v)"
   ]
  },
  {
   "cell_type": "code",
   "execution_count": 16,
   "id": "0f1b81ff-18fc-4172-ae69-5e013ab6a976",
   "metadata": {},
   "outputs": [
    {
     "data": {
      "application/vnd.jupyter.widget-view+json": {
       "model_id": "4a0f369804994b61aa1282aac1570989",
       "version_major": 2,
       "version_minor": 0
      },
      "text/plain": [
       "  0%|          | 0/1000 [00:00<?, ?it/s]"
      ]
     },
     "metadata": {},
     "output_type": "display_data"
    }
   ],
   "source": [
    "for A in tqdm(disc_A_list):\n",
    "    Q = -A[:-1,:-1]\n",
    "    v = relax_solve(Q,reps=10)\n",
    "    v_round = round_v\n",
    "    results_disc[\"VDISTANCE10_disc\"].append(np.linalg.norm(v-v_round))"
   ]
  },
  {
   "cell_type": "code",
   "execution_count": 17,
   "id": "9871b874-babb-4d0b-95a5-59a89d5c889e",
   "metadata": {},
   "outputs": [
    {
     "data": {
      "application/vnd.jupyter.widget-view+json": {
       "model_id": "5bcd554e95bf4d14bc701c617a6e460a",
       "version_major": 2,
       "version_minor": 0
      },
      "text/plain": [
       "  0%|          | 0/1000 [00:00<?, ?it/s]"
      ]
     },
     "metadata": {},
     "output_type": "display_data"
    }
   ],
   "source": [
    "DISTANCE_disc = []\n",
    "for A in tqdm(disc_A_list):\n",
    "    t=[map_reduce(v) for v in brute_force_maxcut(A)[0]]\n",
    "    results_disc[\"DISTANCE10_disc\"].append(np.min([np.linalg.norm(v-i) for i in t]))"
   ]
  },
  {
   "cell_type": "code",
   "execution_count": 18,
   "id": "ed145254-e40d-443d-b73e-ae9b20d6bbaf",
   "metadata": {},
   "outputs": [],
   "source": [
    "with open(\"DistancesRandomQUBO_disc.p\", \"wb\") as file:\n",
    "    pkl.dump(results_disc, file)"
   ]
  }
 ],
 "metadata": {
  "kernelspec": {
   "display_name": "Python 3 (ipykernel)",
   "language": "python",
   "name": "python3"
  },
  "language_info": {
   "codemirror_mode": {
    "name": "ipython",
    "version": 3
   },
   "file_extension": ".py",
   "mimetype": "text/x-python",
   "name": "python",
   "nbconvert_exporter": "python",
   "pygments_lexer": "ipython3",
   "version": "3.12.2"
  }
 },
 "nbformat": 4,
 "nbformat_minor": 5
}
