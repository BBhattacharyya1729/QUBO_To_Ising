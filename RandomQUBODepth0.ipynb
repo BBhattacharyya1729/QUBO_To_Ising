{
 "cells": [
  {
   "cell_type": "code",
   "execution_count": 19,
   "id": "8a73003b-01b2-41d5-9620-d1f6f76be6e1",
   "metadata": {},
   "outputs": [],
   "source": [
    "from QAOAUtils import *\n",
    "import pickle as pkl\n",
    "from oputils import *"
   ]
  },
  {
   "cell_type": "code",
   "execution_count": 20,
   "id": "14b75bdf-3f59-450e-a8f7-24f8d00f254b",
   "metadata": {},
   "outputs": [],
   "source": [
    "DATA = []\n",
    "ws_list = ['GW2','GW3','BM2','BM3']\n",
    "n = 17\n",
    "rotation_options = list(range(n))+[None]\n",
    "count=1000"
   ]
  },
  {
   "cell_type": "code",
   "execution_count": 21,
   "id": "4d358826-f083-49a9-aba6-7acca64696a2",
   "metadata": {},
   "outputs": [
    {
     "data": {
      "application/vnd.jupyter.widget-view+json": {
       "model_id": "35f7e31ced0345a2943ce1d807614aac",
       "version_major": 2,
       "version_minor": 0
      },
      "text/plain": [
       "  0%|          | 0/1000 [00:00<?, ?it/s]"
      ]
     },
     "metadata": {},
     "output_type": "display_data"
    }
   ],
   "source": [
    "comparison_data,best_angle_data,ws_data,A_list = depth0_ws_comp(n,A_func=lambda : dual_graph(randm(n-1)),ws_list = ws_list,rotation_options = rotation_options,count=count)\n",
    "DATA+=[comparison_data,best_angle_data,ws_data,A_list]"
   ]
  },
  {
   "cell_type": "code",
   "execution_count": 22,
   "id": "40049059-12fe-4c55-a022-4a8c576fc496",
   "metadata": {},
   "outputs": [
    {
     "data": {
      "application/vnd.jupyter.widget-view+json": {
       "model_id": "8f64991135c443d29f6b22cc03e4b7d8",
       "version_major": 2,
       "version_minor": 0
      },
      "text/plain": [
       "  0%|          | 0/1000 [00:00<?, ?it/s]"
      ]
     },
     "metadata": {},
     "output_type": "display_data"
    }
   ],
   "source": [
    "comparison_data,best_angle_data,ws_data,A_list = depth0_ws_comp(n,A_func=lambda : dual_graph(drandm(n-1)),ws_list = ws_list,rotation_options = rotation_options,count=count)\n",
    "DATA+=[comparison_data,best_angle_data,ws_data,A_list]"
   ]
  },
  {
   "cell_type": "code",
   "execution_count": 25,
   "id": "59bba50e-17c7-4316-9866-1910b844cb90",
   "metadata": {},
   "outputs": [],
   "source": [
    "pkl.dump( DATA, open( \"RandomQUBODepth0Test.p\", \"wb\" ) )"
   ]
  }
 ],
 "metadata": {
  "kernelspec": {
   "display_name": "Python 3 (ipykernel)",
   "language": "python",
   "name": "python3"
  },
  "language_info": {
   "codemirror_mode": {
    "name": "ipython",
    "version": 3
   },
   "file_extension": ".py",
   "mimetype": "text/x-python",
   "name": "python",
   "nbconvert_exporter": "python",
   "pygments_lexer": "ipython3",
   "version": "3.12.2"
  }
 },
 "nbformat": 4,
 "nbformat_minor": 5
}
