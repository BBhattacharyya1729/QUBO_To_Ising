{
 "cells": [
  {
   "cell_type": "code",
   "execution_count": 1,
   "id": "131d1ced-5203-42f0-8317-9e799dab3e8e",
   "metadata": {},
   "outputs": [
    {
     "name": "stdout",
     "output_type": "stream",
     "text": [
      "(CVXPY) Nov 05 04:02:09 PM: Encountered unexpected exception importing solver OSQP:\n",
      "ImportError('DLL load failed while importing qdldl: The specified module could not be found.')\n"
     ]
    }
   ],
   "source": [
    "from QAOAUtils import *\n",
    "from PSC import *\n",
    "import pickle as pkl\n",
    "from qiskit_algorithms.optimizers import COBYLA\n",
    "import pandas as pd"
   ]
  },
  {
   "cell_type": "code",
   "execution_count": 2,
   "id": "51b99f02-e847-453a-8947-f8ebe9675905",
   "metadata": {},
   "outputs": [],
   "source": [
    "DATA = pkl.load( open (\"TSPMISDepth0Test.p\", \"rb\") )\n",
    "PSC_DATA = pkl.load( open (\"PSCTSPFullTest.p\", \"rb\") )\n",
    "PSC_DATA50 = pkl.load( open (\"PSCTSPFullTest50.p\", \"rb\") )"
   ]
  },
  {
   "cell_type": "code",
   "execution_count": 3,
   "id": "c61e7ea6-3f1e-4f73-a989-22098bae0e16",
   "metadata": {},
   "outputs": [],
   "source": [
    "idx_list = np.linspace(0,9,10, dtype='int')\n",
    "\n",
    "PSC_A_list = []\n",
    "results = {\n",
    "    \"VDISTANCE50\": [],\n",
    "    \"DISTANCE50\": [],\n",
    "    \"VDISTANCE10\": [],\n",
    "    \"DISTANCE10\": [],\n",
    "    \"PSCVDISTANCE50\": [],\n",
    "    \"PSCDISTANCE50\": [],\n",
    "    \"PSCDISTANCE10\": [],\n",
    "    \"PSCVDISTANCE10\": []\n",
    "\n",
    "    \n",
    "}\n",
    "\n",
    "for i in idx_list:\n",
    "    PSC_A_list.append(DATA[3][i])"
   ]
  },
  {
   "cell_type": "code",
   "execution_count": 4,
   "id": "605dd477-dc54-42ad-89c8-e5666ca3bee4",
   "metadata": {},
   "outputs": [],
   "source": [
    "A = PSC_A_list[0]\n",
    "v = PSC_DATA[9][0]['vals']\n",
    "round_v = np.round(v)\n",
    "dist = np.linalg.norm(v-round_v)"
   ]
  },
  {
   "cell_type": "code",
   "execution_count": 5,
   "id": "4ff61638-36de-4e36-9db7-77e1e9b94c00",
   "metadata": {},
   "outputs": [
    {
     "data": {
      "application/vnd.jupyter.widget-view+json": {
       "model_id": "4b438ff741a448cfb1cf5fca1f81513c",
       "version_major": 2,
       "version_minor": 0
      },
      "text/plain": [
       "  0%|          | 0/10 [00:00<?, ?it/s]"
      ]
     },
     "metadata": {},
     "output_type": "display_data"
    }
   ],
   "source": [
    "for A in tqdm(PSC_A_list):\n",
    "    for i in range(10):\n",
    "        v = PSC_DATA[i][0]['vals']\n",
    "        v_round = round_v\n",
    "        results[\"PSCVDISTANCE10\"].append(np.linalg.norm(v - v_round))"
   ]
  },
  {
   "cell_type": "code",
   "execution_count": 6,
   "id": "d33a16b2-5d25-4a1e-b931-7031847faee2",
   "metadata": {},
   "outputs": [
    {
     "data": {
      "application/vnd.jupyter.widget-view+json": {
       "model_id": "bbec4a2c1f354992998d97ad68c3e459",
       "version_major": 2,
       "version_minor": 0
      },
      "text/plain": [
       "  0%|          | 0/10 [00:00<?, ?it/s]"
      ]
     },
     "metadata": {},
     "output_type": "display_data"
    }
   ],
   "source": [
    "for A in tqdm(PSC_A_list):\n",
    "    t=[map_reduce(v) for v in brute_force_maxcut(A)[0]]\n",
    "    results[\"PSCDISTANCE10\"].append(np.min([np.linalg.norm(v-i) for i in t]))"
   ]
  },
  {
   "cell_type": "code",
   "execution_count": 7,
   "id": "7fde0224-5290-40c8-b628-5e2579a11603",
   "metadata": {},
   "outputs": [
    {
     "data": {
      "application/vnd.jupyter.widget-view+json": {
       "model_id": "e1c095a46172499f8af208498923f9b0",
       "version_major": 2,
       "version_minor": 0
      },
      "text/plain": [
       "  0%|          | 0/10 [00:00<?, ?it/s]"
      ]
     },
     "metadata": {},
     "output_type": "display_data"
    }
   ],
   "source": [
    "for A in tqdm(PSC_A_list):\n",
    "    for i in range(10):\n",
    "        v = PSC_DATA50[i][0]['vals']\n",
    "        v_round = round_v\n",
    "        results[\"PSCVDISTANCE50\"].append(np.linalg.norm(v - v_round))"
   ]
  },
  {
   "cell_type": "code",
   "execution_count": 8,
   "id": "7757101f-661d-4338-a467-b85f28c72401",
   "metadata": {},
   "outputs": [
    {
     "data": {
      "application/vnd.jupyter.widget-view+json": {
       "model_id": "c7e3536041dc4809aca658bcaabd6dd6",
       "version_major": 2,
       "version_minor": 0
      },
      "text/plain": [
       "  0%|          | 0/10 [00:00<?, ?it/s]"
      ]
     },
     "metadata": {},
     "output_type": "display_data"
    }
   ],
   "source": [
    "for A in tqdm(PSC_A_list):\n",
    "    t=[map_reduce(v) for v in brute_force_maxcut(A)[0]]\n",
    "    results[\"PSCDISTANCE50\"].append(np.min([np.linalg.norm(v-i) for i in t]))"
   ]
  },
  {
   "cell_type": "code",
   "execution_count": 9,
   "id": "fc213f15-1619-44d2-aec5-008cbd3fe53a",
   "metadata": {},
   "outputs": [],
   "source": [
    "idx_list = np.linspace(0,999,1000, dtype='int')\n",
    "\n",
    "TSP_A_list = []\n",
    "TSP_init_list = []\n",
    "\n",
    "for i in idx_list:\n",
    "    TSP_A_list.append(DATA[3][i])\n",
    "    TSP_init_list.append(DATA[2][i])"
   ]
  },
  {
   "cell_type": "code",
   "execution_count": 10,
   "id": "6e0c44a2-926c-4500-9809-eb7c346a9eb1",
   "metadata": {},
   "outputs": [],
   "source": [
    "A = TSP_A_list[0]\n",
    "Q = -A[:-1,:-1]\n",
    "v = relax_solve(Q,reps=50)\n",
    "round_v = np.round(v)\n",
    "dist = np.linalg.norm(v-round_v)"
   ]
  },
  {
   "cell_type": "code",
   "execution_count": 11,
   "id": "e740c25e-510a-44e7-81b5-a6903770a0d0",
   "metadata": {},
   "outputs": [
    {
     "data": {
      "application/vnd.jupyter.widget-view+json": {
       "model_id": "042230e16f7047c89cbbbb37294c4d1c",
       "version_major": 2,
       "version_minor": 0
      },
      "text/plain": [
       "  0%|          | 0/1000 [00:00<?, ?it/s]"
      ]
     },
     "metadata": {},
     "output_type": "display_data"
    }
   ],
   "source": [
    "for A in tqdm(TSP_A_list):\n",
    "    Q = -A[:-1,:-1]\n",
    "    v = relax_solve(Q,reps=50)\n",
    "    v_round = round_v\n",
    "    results[\"VDISTANCE50\"].append(np.linalg.norm(v-v_round))"
   ]
  },
  {
   "cell_type": "code",
   "execution_count": 12,
   "id": "0c2a7e1b-245b-49f3-91e8-3bca6b2b8086",
   "metadata": {},
   "outputs": [
    {
     "data": {
      "application/vnd.jupyter.widget-view+json": {
       "model_id": "96f4f2c4478246109568ff0fcb10e45d",
       "version_major": 2,
       "version_minor": 0
      },
      "text/plain": [
       "  0%|          | 0/1000 [00:00<?, ?it/s]"
      ]
     },
     "metadata": {},
     "output_type": "display_data"
    }
   ],
   "source": [
    "for A in tqdm(TSP_A_list):\n",
    "    t=[map_reduce(v) for v in brute_force_maxcut(A)[0]]\n",
    "    results[\"DISTANCE50\"].append(np.min([np.linalg.norm(v-i) for i in t]))"
   ]
  },
  {
   "cell_type": "code",
   "execution_count": 13,
   "id": "f87a61aa-e45b-49c8-b6c7-54fb1350386f",
   "metadata": {},
   "outputs": [],
   "source": [
    "A = TSP_A_list[0]\n",
    "Q = -A[:-1,:-1]\n",
    "v = relax_solve(Q,reps=10)\n",
    "round_v = np.round(v)\n",
    "dist = np.linalg.norm(v-round_v)"
   ]
  },
  {
   "cell_type": "code",
   "execution_count": 14,
   "id": "b0a88a5e-7693-45ad-a8e4-2428a4983405",
   "metadata": {},
   "outputs": [
    {
     "data": {
      "application/vnd.jupyter.widget-view+json": {
       "model_id": "e9733a031c26439cbc4ec669ad1e8bfd",
       "version_major": 2,
       "version_minor": 0
      },
      "text/plain": [
       "  0%|          | 0/1000 [00:00<?, ?it/s]"
      ]
     },
     "metadata": {},
     "output_type": "display_data"
    }
   ],
   "source": [
    "for A in tqdm(TSP_A_list):\n",
    "    Q = -A[:-1,:-1]\n",
    "    v = relax_solve(Q,reps=10)\n",
    "    v_round = round_v\n",
    "    results[\"VDISTANCE10\"].append(np.linalg.norm(v-v_round))"
   ]
  },
  {
   "cell_type": "code",
   "execution_count": 15,
   "id": "0a1b9832-fbea-4650-8b62-c0b81046d55c",
   "metadata": {},
   "outputs": [
    {
     "data": {
      "application/vnd.jupyter.widget-view+json": {
       "model_id": "dc560d59f5834bf69251762eb4383b65",
       "version_major": 2,
       "version_minor": 0
      },
      "text/plain": [
       "  0%|          | 0/1000 [00:00<?, ?it/s]"
      ]
     },
     "metadata": {},
     "output_type": "display_data"
    }
   ],
   "source": [
    "for A in tqdm(TSP_A_list):\n",
    "    t=[map_reduce(v) for v in brute_force_maxcut(A)[0]]\n",
    "    results[\"DISTANCE10\"].append(np.min([np.linalg.norm(v-i) for i in t]))"
   ]
  },
  {
   "cell_type": "code",
   "execution_count": 16,
   "id": "8b211a12-74ca-4960-96ff-20b697c96c34",
   "metadata": {},
   "outputs": [],
   "source": [
    "with open(\"DistancesTSP.p\", \"wb\") as file:\n",
    "    pkl.dump(results, file)"
   ]
  },
  {
   "cell_type": "code",
   "execution_count": null,
   "id": "9ba779a9-c9f9-499d-bd3f-f9bc65e900e8",
   "metadata": {},
   "outputs": [],
   "source": []
  }
 ],
 "metadata": {
  "kernelspec": {
   "display_name": "Python 3 (ipykernel)",
   "language": "python",
   "name": "python3"
  },
  "language_info": {
   "codemirror_mode": {
    "name": "ipython",
    "version": 3
   },
   "file_extension": ".py",
   "mimetype": "text/x-python",
   "name": "python",
   "nbconvert_exporter": "python",
   "pygments_lexer": "ipython3",
   "version": "3.12.2"
  }
 },
 "nbformat": 4,
 "nbformat_minor": 5
}
