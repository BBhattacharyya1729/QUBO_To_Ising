{
 "cells": [
  {
   "cell_type": "code",
   "execution_count": 1,
   "id": "a7aec3c0-c804-48ed-bf8b-f83e7fd0c19f",
   "metadata": {},
   "outputs": [
    {
     "name": "stdout",
     "output_type": "stream",
     "text": [
      "(CVXPY) Aug 09 08:11:39 PM: Encountered unexpected exception importing solver OSQP:\n",
      "ImportError('DLL load failed while importing qdldl: The specified module could not be found.')\n"
     ]
    }
   ],
   "source": [
    "from QAOAUtils import *\n",
    "import pickle as pkl\n",
    "from qiskit_algorithms.optimizers import COBYLA"
   ]
  },
  {
   "cell_type": "code",
   "execution_count": 2,
   "id": "e7d9211d-56f8-4c98-a8c5-3fde18b4c810",
   "metadata": {},
   "outputs": [],
   "source": [
    "DATA = pkl.load( open (\"PortfolioOptDepth0.p\", \"rb\") )"
   ]
  },
  {
   "cell_type": "code",
   "execution_count": 3,
   "id": "2558f2fa-ecb1-4cc9-98e7-44aaffa70c2f",
   "metadata": {},
   "outputs": [],
   "source": [
    "idx_list = np.linspace(50,950,10,dtype='int')\n",
    "\n",
    "PO_A_list = [DATA[3][i] for i in idx_list]\n",
    "PO_init_list = [DATA[2][i] for i in idx_list]\n",
    "\n",
    "DATA = []\n",
    "ws_list  = ['GW2','GW3', None]\n",
    "###Configure \n",
    "opt=COBYLA(maxiter=50)"
   ]
  },
  {
   "cell_type": "code",
   "execution_count": 4,
   "id": "eaddcb61-1e52-4fbf-91c7-bf38b4b24030",
   "metadata": {},
   "outputs": [
    {
     "data": {
      "application/vnd.jupyter.widget-view+json": {
       "model_id": "6418ada72a8648b4a49944438b436181",
       "version_major": 2,
       "version_minor": 0
      },
      "text/plain": [
       "  0%|          | 0/10 [00:00<?, ?it/s]"
      ]
     },
     "metadata": {},
     "output_type": "display_data"
    }
   ],
   "source": [
    "for _ in tqdm(range(10)):\n",
    "    A = PO_A_list[_]\n",
    "    initial_data = PO_init_list[_]\n",
    "    do=warmstart_comp(A=A,opt=opt,p_max=5,rotation_options=[0,-1,None],reps=10,optimizer_kwargs={'name':None,'verbose':False},ws_list=ws_list,initial_data=initial_data,keep_hist=True)\n",
    "    DATA.append(do[-1])"
   ]
  },
  {
   "cell_type": "code",
   "execution_count": 5,
   "id": "3e7e0f16-f0a3-405b-aeec-62ce5027d0a6",
   "metadata": {},
   "outputs": [],
   "source": [
    "pkl.dump( DATA, open( \"PortfolioOptFullTest.p\", \"wb\" ) )"
   ]
  }
 ],
 "metadata": {
  "kernelspec": {
   "display_name": "Python 3 (ipykernel)",
   "language": "python",
   "name": "python3"
  },
  "language_info": {
   "codemirror_mode": {
    "name": "ipython",
    "version": 3
   },
   "file_extension": ".py",
   "mimetype": "text/x-python",
   "name": "python",
   "nbconvert_exporter": "python",
   "pygments_lexer": "ipython3",
   "version": "3.12.2"
  }
 },
 "nbformat": 4,
 "nbformat_minor": 5
}
