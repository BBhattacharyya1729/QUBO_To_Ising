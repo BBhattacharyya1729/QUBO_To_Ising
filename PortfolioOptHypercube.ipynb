{
 "cells": [
  {
   "cell_type": "code",
   "execution_count": 1,
   "id": "cc73169e-3b5d-4aec-8d49-fc59ff61df60",
   "metadata": {},
   "outputs": [
    {
     "name": "stdout",
     "output_type": "stream",
     "text": [
      "(CVXPY) Oct 29 07:40:04 PM: Encountered unexpected exception importing solver OSQP:\n",
      "ImportError('DLL load failed while importing qdldl: The specified module could not be found.')\n"
     ]
    }
   ],
   "source": [
    "from QAOAUtils import *\n",
    "from PSC import *\n",
    "import pickle as pkl\n",
    "from qiskit_algorithms.optimizers import COBYLA"
   ]
  },
  {
   "cell_type": "code",
   "execution_count": 2,
   "id": "6b5fb3ef-bcae-483b-9820-06b608f7dcf9",
   "metadata": {},
   "outputs": [],
   "source": [
    "DATA = pkl.load( open (\"PortfolioOptDepth0Test.p\", \"rb\") )\n",
    "stock_data = pkl.load( open (\"stock_data_depth0.p\", \"rb\") )"
   ]
  },
  {
   "cell_type": "code",
   "execution_count": 3,
   "id": "bd6a8b96-5913-47f0-bf28-6f5285dc66a3",
   "metadata": {},
   "outputs": [],
   "source": [
    "idx_list = np.linspace(0,999,1000,dtype='int')\n",
    "\n",
    "PO_A_list = []\n",
    "stock_data_list = []\n",
    "PO_init_list = []\n",
    "results = {\n",
    "    \"VDISTANCE\": [],\n",
    "    \"DISTANCE\": [],\n",
    "}\n",
    "\n",
    "for i in idx_list:\n",
    "    PO_A_list.append(DATA[3][i])\n",
    "    PO_init_list.append(DATA[2][i])\n",
    "    stock_data_list.append(stock_data[i])"
   ]
  },
  {
   "cell_type": "code",
   "execution_count": 4,
   "id": "86d6f531-a18d-4233-8032-2a040f3556b8",
   "metadata": {},
   "outputs": [],
   "source": [
    "A = PO_A_list[0]\n",
    "PO_data = stock_data_list[0]\n",
    "v = PO_solve(PO_data[\"mu\"], PO_data[\"sigma\"],B=10)\n",
    "round_v = np.round(v)\n",
    "dist = np.linalg.norm(v-round_v)"
   ]
  },
  {
   "cell_type": "code",
   "execution_count": 5,
   "id": "da940d58-4069-4214-8ee0-546ff81976fb",
   "metadata": {},
   "outputs": [
    {
     "data": {
      "application/vnd.jupyter.widget-view+json": {
       "model_id": "eb1d7c0a76084b1f992069b5c50e9ca8",
       "version_major": 2,
       "version_minor": 0
      },
      "text/plain": [
       "0it [00:00, ?it/s]"
      ]
     },
     "metadata": {},
     "output_type": "display_data"
    }
   ],
   "source": [
    "for _,A in tqdm(enumerate(PO_A_list)):\n",
    "    PO_data = stock_data_list[_]\n",
    "    v = PO_solve(stock_data_list[_][\"mu\"],stock_data_list[_][\"sigma\"], B=10)\n",
    "    v_round = round_v\n",
    "    results[\"VDISTANCE\"].append(np.linalg.norm(v-v_round))"
   ]
  },
  {
   "cell_type": "code",
   "execution_count": 6,
   "id": "a070cb1c-6f14-4544-aaf9-9f61dee9e04b",
   "metadata": {},
   "outputs": [
    {
     "data": {
      "application/vnd.jupyter.widget-view+json": {
       "model_id": "306dd1a66d9847aea5e136dde80f7459",
       "version_major": 2,
       "version_minor": 0
      },
      "text/plain": [
       "  0%|          | 0/1000 [00:00<?, ?it/s]"
      ]
     },
     "metadata": {},
     "output_type": "display_data"
    }
   ],
   "source": [
    "for A in tqdm(PO_A_list):\n",
    "    t=[map_reduce(v) for v in brute_force_maxcut(A)[0]]\n",
    "    results[\"DISTANCE\"].append(np.min([np.linalg.norm(v-i) for i in t]))"
   ]
  },
  {
   "cell_type": "code",
   "execution_count": 7,
   "id": "cd7d144f-3cdb-4d3b-ba8d-9fe9e56a4404",
   "metadata": {},
   "outputs": [],
   "source": [
    "with open(\"DistancesPO.p\", \"wb\") as file:\n",
    "    pkl.dump(results, file)"
   ]
  },
  {
   "cell_type": "code",
   "execution_count": null,
   "id": "1027dffb-2de2-4bb4-b49d-7d220a28940e",
   "metadata": {},
   "outputs": [],
   "source": []
  }
 ],
 "metadata": {
  "kernelspec": {
   "display_name": "Python 3 (ipykernel)",
   "language": "python",
   "name": "python3"
  },
  "language_info": {
   "codemirror_mode": {
    "name": "ipython",
    "version": 3
   },
   "file_extension": ".py",
   "mimetype": "text/x-python",
   "name": "python",
   "nbconvert_exporter": "python",
   "pygments_lexer": "ipython3",
   "version": "3.12.2"
  }
 },
 "nbformat": 4,
 "nbformat_minor": 5
}
