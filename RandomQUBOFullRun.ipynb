{
 "cells": [
  {
   "cell_type": "code",
   "execution_count": 1,
   "id": "c2c79ca9-6199-4de2-b916-2c5271eb358e",
   "metadata": {},
   "outputs": [
    {
     "name": "stdout",
     "output_type": "stream",
     "text": [
      "(CVXPY) Oct 29 11:03:54 PM: Encountered unexpected exception importing solver OSQP:\n",
      "ImportError('DLL load failed while importing qdldl: The specified module could not be found.')\n"
     ]
    }
   ],
   "source": [
    "from QAOAUtils import *\n",
    "from PSC import *\n",
    "import pickle as pkl\n",
    "from qiskit_algorithms.optimizers import COBYLA"
   ]
  },
  {
   "cell_type": "code",
   "execution_count": 2,
   "id": "cd7ff7ba-1e61-4e25-ae7a-4bba84403c13",
   "metadata": {},
   "outputs": [],
   "source": [
    "DATA = pkl.load( open (\"RandomQUBODepth0Test.p\", \"rb\") )"
   ]
  },
  {
   "cell_type": "code",
   "execution_count": 3,
   "id": "af85c4dc-451c-4e54-8097-7cd6b03899e0",
   "metadata": {},
   "outputs": [],
   "source": [
    "idx_list = np.linspace(50,950,10,dtype='int')\n",
    "\n",
    "cont_A_list = [DATA[3][i] for i in idx_list]\n",
    "cont_init_list = [DATA[2][i] for i in idx_list]\n",
    "\n",
    "disc_A_list = [DATA[7][i] for i in idx_list]\n",
    "disc_init_list = [DATA[6][i] for i in idx_list]\n",
    "\n",
    "DATA = []\n",
    "PSC_DATA = []\n",
    "PSC_DATA50 = []\n",
    "ws_list  = ['GW2','GW3', 'BM2', 'BM3', None]\n",
    "###Configure \n",
    "opt=COBYLA(maxiter=50)"
   ]
  },
  {
   "cell_type": "code",
   "execution_count": 4,
   "id": "3bcab6cc-b124-4d99-9667-9067f21fac06",
   "metadata": {},
   "outputs": [
    {
     "data": {
      "application/vnd.jupyter.widget-view+json": {
       "model_id": "1a94ed7ab44b4ed8bd5c6e7e34a3cecc",
       "version_major": 2,
       "version_minor": 0
      },
      "text/plain": [
       "  0%|          | 0/10 [00:00<?, ?it/s]"
      ]
     },
     "metadata": {},
     "output_type": "display_data"
    }
   ],
   "source": [
    "for _ in tqdm(range(10)):\n",
    "    A = cont_A_list[_]\n",
    "    initial_data = cont_init_list[_]\n",
    "    do=warmstart_comp(A=A,opt=opt,p_max=5,rotation_options=[0,-1,None],reps=10,optimizer_kwargs={'name':None,'verbose':False},ws_list=ws_list,initial_data=initial_data,keep_hist=True)\n",
    "    DATA.append(do[-1])"
   ]
  },
  {
   "cell_type": "code",
   "execution_count": 5,
   "id": "6916b3fd-64d4-4cd0-a936-a9a74099a012",
   "metadata": {},
   "outputs": [
    {
     "data": {
      "application/vnd.jupyter.widget-view+json": {
       "model_id": "8dcc7349d0fe48d78ea4e99272ff6d0e",
       "version_major": 2,
       "version_minor": 0
      },
      "text/plain": [
       "  0%|          | 0/10 [00:00<?, ?it/s]"
      ]
     },
     "metadata": {},
     "output_type": "display_data"
    }
   ],
   "source": [
    "for _ in tqdm(range(10)):\n",
    "    A = disc_A_list[_]\n",
    "    initial_data = disc_init_list[_]\n",
    "    do=warmstart_comp(A=A,opt=opt,p_max=5,rotation_options=[0,-1,None],reps=10,optimizer_kwargs={'name':None,'verbose':False},ws_list=ws_list,initial_data=initial_data,keep_hist=True)\n",
    "    DATA.append(do[-1])"
   ]
  },
  {
   "cell_type": "code",
   "execution_count": 6,
   "id": "ad713ae0-9208-434c-b328-d2c02c9bb37c",
   "metadata": {},
   "outputs": [],
   "source": [
    "pkl.dump( DATA, open( \"RandomQUBOFullTest.p\", \"wb\" ) )"
   ]
  },
  {
   "cell_type": "code",
   "execution_count": 4,
   "id": "bd72a98f-85da-4943-91e9-b836d06a3b73",
   "metadata": {},
   "outputs": [
    {
     "data": {
      "application/vnd.jupyter.widget-view+json": {
       "model_id": "14dfb56191144e3e8cc69788000be356",
       "version_major": 2,
       "version_minor": 0
      },
      "text/plain": [
       "  0%|          | 0/10 [00:00<?, ?it/s]"
      ]
     },
     "metadata": {},
     "output_type": "display_data"
    }
   ],
   "source": [
    "for _ in tqdm(range(10)):\n",
    "    A = cont_A_list[_]\n",
    "    do = PSC_Run(A,opt,p_max=5,optimizer_kwargs={'name':None,'verbose':False},keep_hist=False,eps=0.1,reps=10)\n",
    "    PSC_DATA.append(do)"
   ]
  },
  {
   "cell_type": "code",
   "execution_count": 5,
   "id": "3f0ecf32-5dd2-4bfb-9ff6-c53750539ffa",
   "metadata": {},
   "outputs": [
    {
     "data": {
      "application/vnd.jupyter.widget-view+json": {
       "model_id": "ca4c3bc74bed42ba853e4530a6c17866",
       "version_major": 2,
       "version_minor": 0
      },
      "text/plain": [
       "  0%|          | 0/10 [00:00<?, ?it/s]"
      ]
     },
     "metadata": {},
     "output_type": "display_data"
    }
   ],
   "source": [
    "for _ in tqdm(range(10)):\n",
    "    A = disc_A_list[_]\n",
    "    do = PSC_Run(A,opt,p_max=5,optimizer_kwargs={'name':None,'verbose':False},keep_hist=False,eps=0.1,reps=10)\n",
    "    PSC_DATA.append(do)"
   ]
  },
  {
   "cell_type": "code",
   "execution_count": 6,
   "id": "b3420154-5877-4c54-b7dc-9bd01de175f5",
   "metadata": {},
   "outputs": [],
   "source": [
    "pkl.dump( PSC_DATA, open( \"PSCRandomQUBOFullTest.p\", \"wb\" ) )"
   ]
  },
  {
   "cell_type": "code",
   "execution_count": 7,
   "id": "569c2194-1f16-46cf-a3c5-fd4dc8e6c39a",
   "metadata": {},
   "outputs": [
    {
     "data": {
      "application/vnd.jupyter.widget-view+json": {
       "model_id": "352a97efed51460fbaf45eda62dc569f",
       "version_major": 2,
       "version_minor": 0
      },
      "text/plain": [
       "  0%|          | 0/10 [00:00<?, ?it/s]"
      ]
     },
     "metadata": {},
     "output_type": "display_data"
    }
   ],
   "source": [
    "for _ in tqdm(range(10)):\n",
    "    A = cont_A_list[_]\n",
    "    do = PSC_Run(A,opt,p_max=5,optimizer_kwargs={'name':None,'verbose':False},keep_hist=False,eps=0.1,reps=10,relaxed_reps=50)\n",
    "    PSC_DATA50.append(do)"
   ]
  },
  {
   "cell_type": "code",
   "execution_count": 8,
   "id": "28deca5b-aeef-417e-b0f1-db4d17e1b363",
   "metadata": {},
   "outputs": [
    {
     "data": {
      "application/vnd.jupyter.widget-view+json": {
       "model_id": "bb58ae0635c74b029bc816450997a9d3",
       "version_major": 2,
       "version_minor": 0
      },
      "text/plain": [
       "  0%|          | 0/10 [00:00<?, ?it/s]"
      ]
     },
     "metadata": {},
     "output_type": "display_data"
    }
   ],
   "source": [
    "for _ in tqdm(range(10)):\n",
    "    A = disc_A_list[_]\n",
    "    do = PSC_Run(A,opt,p_max=5,optimizer_kwargs={'name':None,'verbose':False},keep_hist=False,eps=0.1,reps=10,relaxed_reps=50)\n",
    "    PSC_DATA50.append(do)"
   ]
  },
  {
   "cell_type": "code",
   "execution_count": 9,
   "id": "b1cc2a57-9d10-480e-81c7-f4e9c1eb1e80",
   "metadata": {},
   "outputs": [],
   "source": [
    "pkl.dump( PSC_DATA50, open( \"PSCRandomQUBOFullTest50.p\", \"wb\" ) )"
   ]
  },
  {
   "cell_type": "code",
   "execution_count": null,
   "id": "2d476f28-c486-4556-9aeb-6026adce763f",
   "metadata": {},
   "outputs": [],
   "source": []
  }
 ],
 "metadata": {
  "kernelspec": {
   "display_name": "Python 3 (ipykernel)",
   "language": "python",
   "name": "python3"
  },
  "language_info": {
   "codemirror_mode": {
    "name": "ipython",
    "version": 3
   },
   "file_extension": ".py",
   "mimetype": "text/x-python",
   "name": "python",
   "nbconvert_exporter": "python",
   "pygments_lexer": "ipython3",
   "version": "3.12.2"
  }
 },
 "nbformat": 4,
 "nbformat_minor": 5
}
